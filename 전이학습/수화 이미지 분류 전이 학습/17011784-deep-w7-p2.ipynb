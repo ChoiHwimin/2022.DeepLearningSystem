{
 "cells": [
  {
   "cell_type": "code",
   "execution_count": 1,
   "id": "f9dc46f0",
   "metadata": {
    "_cell_guid": "b1076dfc-b9ad-4769-8c92-a6c4dae69d19",
    "_uuid": "8f2839f25d086af736a60e9eeb907d3b93b6e0e5",
    "execution": {
     "iopub.execute_input": "2022-11-13T10:20:05.950626Z",
     "iopub.status.busy": "2022-11-13T10:20:05.949839Z",
     "iopub.status.idle": "2022-11-13T10:20:05.974750Z",
     "shell.execute_reply": "2022-11-13T10:20:05.973784Z"
    },
    "papermill": {
     "duration": 0.037283,
     "end_time": "2022-11-13T10:20:05.978733",
     "exception": false,
     "start_time": "2022-11-13T10:20:05.941450",
     "status": "completed"
    },
    "tags": []
   },
   "outputs": [
    {
     "name": "stdout",
     "output_type": "stream",
     "text": [
      "/kaggle/input/2022-dl-w10-p2/valid.csv\n",
      "/kaggle/input/2022-dl-w10-p2/train.csv\n",
      "/kaggle/input/2022-dl-w10-p2/test.csv\n",
      "/kaggle/input/2022-dl-w10-p2/sample_submit.csv\n"
     ]
    }
   ],
   "source": [
    "# This Python 3 environment comes with many helpful analytics libraries installed\n",
    "# It is defined by the kaggle/python Docker image: https://github.com/kaggle/docker-python\n",
    "# For example, here's several helpful packages to load\n",
    "\n",
    "import numpy as np # linear algebra\n",
    "import pandas as pd # data processing, CSV file I/O (e.g. pd.read_csv)\n",
    "\n",
    "# Input data files are available in the read-only \"../input/\" directory\n",
    "# For example, running this (by clicking run or pressing Shift+Enter) will list all files under the input directory\n",
    "\n",
    "import os\n",
    "for dirname, _, filenames in os.walk('/kaggle/input'):\n",
    "    for filename in filenames:\n",
    "        print(os.path.join(dirname, filename))\n",
    "\n",
    "# You can write up to 20GB to the current directory (/kaggle/working/) that gets preserved as output when you create a version using \"Save & Run All\" \n",
    "# You can also write temporary files to /kaggle/temp/, but they won't be saved outside of the current session"
   ]
  },
  {
   "cell_type": "code",
   "execution_count": 2,
   "id": "7121ee7a",
   "metadata": {
    "execution": {
     "iopub.execute_input": "2022-11-13T10:20:06.000571Z",
     "iopub.status.busy": "2022-11-13T10:20:05.999998Z",
     "iopub.status.idle": "2022-11-13T10:20:11.632793Z",
     "shell.execute_reply": "2022-11-13T10:20:11.631848Z"
    },
    "papermill": {
     "duration": 5.644428,
     "end_time": "2022-11-13T10:20:11.635151",
     "exception": false,
     "start_time": "2022-11-13T10:20:05.990723",
     "status": "completed"
    },
    "tags": []
   },
   "outputs": [],
   "source": [
    "from keras.preprocessing.image import ImageDataGenerator\n",
    "from keras.preprocessing import image\n",
    "from keras.applications import imagenet_utils\n",
    "from keras.applications import vgg16\n",
    "# from keras.optimizers import Adam, SGD\n",
    "from keras.metrics import categorical_crossentropy\n",
    "from keras.layers import Dense, Flatten, Dropout, BatchNormalization\n",
    "from keras.models import Model\n",
    "from sklearn.metrics import confusion_matrix\n",
    "import itertools\n",
    "import matplotlib.pyplot as plt\n",
    "%matplotlib inline"
   ]
  },
  {
   "cell_type": "code",
   "execution_count": 3,
   "id": "5a553857",
   "metadata": {
    "execution": {
     "iopub.execute_input": "2022-11-13T10:20:11.648641Z",
     "iopub.status.busy": "2022-11-13T10:20:11.648144Z",
     "iopub.status.idle": "2022-11-13T10:20:36.115383Z",
     "shell.execute_reply": "2022-11-13T10:20:36.114378Z"
    },
    "papermill": {
     "duration": 24.476603,
     "end_time": "2022-11-13T10:20:36.117960",
     "exception": false,
     "start_time": "2022-11-13T10:20:11.641357",
     "status": "completed"
    },
    "tags": []
   },
   "outputs": [
    {
     "name": "stdout",
     "output_type": "stream",
     "text": [
      "(1712, 30002) (300, 30002) (50, 30001)\n"
     ]
    }
   ],
   "source": [
    "train=pd.read_csv('/kaggle/input/2022-dl-w10-p2/train.csv')\n",
    "valid=pd.read_csv('/kaggle/input/2022-dl-w10-p2/valid.csv')\n",
    "test=pd.read_csv('/kaggle/input/2022-dl-w10-p2/test.csv')\n",
    "submit=pd.read_csv('/kaggle/input/2022-dl-w10-p2/sample_submit.csv')\n",
    "print(train.shape,valid.shape,test.shape)"
   ]
  },
  {
   "cell_type": "code",
   "execution_count": null,
   "id": "1656bed8",
   "metadata": {
    "papermill": {
     "duration": 0.005744,
     "end_time": "2022-11-13T10:20:36.130724",
     "exception": false,
     "start_time": "2022-11-13T10:20:36.124980",
     "status": "completed"
    },
    "tags": []
   },
   "outputs": [],
   "source": []
  },
  {
   "cell_type": "code",
   "execution_count": 4,
   "id": "5b2b561f",
   "metadata": {
    "execution": {
     "iopub.execute_input": "2022-11-13T10:20:36.143621Z",
     "iopub.status.busy": "2022-11-13T10:20:36.143323Z",
     "iopub.status.idle": "2022-11-13T10:20:36.168707Z",
     "shell.execute_reply": "2022-11-13T10:20:36.167673Z"
    },
    "papermill": {
     "duration": 0.034622,
     "end_time": "2022-11-13T10:20:36.171241",
     "exception": false,
     "start_time": "2022-11-13T10:20:36.136619",
     "status": "completed"
    },
    "tags": []
   },
   "outputs": [
    {
     "data": {
      "text/html": [
       "<div>\n",
       "<style scoped>\n",
       "    .dataframe tbody tr th:only-of-type {\n",
       "        vertical-align: middle;\n",
       "    }\n",
       "\n",
       "    .dataframe tbody tr th {\n",
       "        vertical-align: top;\n",
       "    }\n",
       "\n",
       "    .dataframe thead th {\n",
       "        text-align: right;\n",
       "    }\n",
       "</style>\n",
       "<table border=\"1\" class=\"dataframe\">\n",
       "  <thead>\n",
       "    <tr style=\"text-align: right;\">\n",
       "      <th></th>\n",
       "      <th>id</th>\n",
       "      <th>1</th>\n",
       "      <th>2</th>\n",
       "      <th>3</th>\n",
       "      <th>4</th>\n",
       "      <th>5</th>\n",
       "      <th>6</th>\n",
       "      <th>7</th>\n",
       "      <th>8</th>\n",
       "      <th>9</th>\n",
       "      <th>...</th>\n",
       "      <th>29992</th>\n",
       "      <th>29993</th>\n",
       "      <th>29994</th>\n",
       "      <th>29995</th>\n",
       "      <th>29996</th>\n",
       "      <th>29997</th>\n",
       "      <th>29998</th>\n",
       "      <th>29999</th>\n",
       "      <th>30000</th>\n",
       "      <th>label</th>\n",
       "    </tr>\n",
       "  </thead>\n",
       "  <tbody>\n",
       "    <tr>\n",
       "      <th>0</th>\n",
       "      <td>0</td>\n",
       "      <td>128</td>\n",
       "      <td>131</td>\n",
       "      <td>138</td>\n",
       "      <td>128</td>\n",
       "      <td>131</td>\n",
       "      <td>138</td>\n",
       "      <td>130</td>\n",
       "      <td>133</td>\n",
       "      <td>138</td>\n",
       "      <td>...</td>\n",
       "      <td>120</td>\n",
       "      <td>118</td>\n",
       "      <td>119</td>\n",
       "      <td>119</td>\n",
       "      <td>117</td>\n",
       "      <td>118</td>\n",
       "      <td>119</td>\n",
       "      <td>117</td>\n",
       "      <td>118</td>\n",
       "      <td>1</td>\n",
       "    </tr>\n",
       "    <tr>\n",
       "      <th>1</th>\n",
       "      <td>1</td>\n",
       "      <td>107</td>\n",
       "      <td>108</td>\n",
       "      <td>113</td>\n",
       "      <td>107</td>\n",
       "      <td>108</td>\n",
       "      <td>113</td>\n",
       "      <td>108</td>\n",
       "      <td>109</td>\n",
       "      <td>114</td>\n",
       "      <td>...</td>\n",
       "      <td>129</td>\n",
       "      <td>129</td>\n",
       "      <td>131</td>\n",
       "      <td>129</td>\n",
       "      <td>129</td>\n",
       "      <td>131</td>\n",
       "      <td>129</td>\n",
       "      <td>129</td>\n",
       "      <td>131</td>\n",
       "      <td>7</td>\n",
       "    </tr>\n",
       "    <tr>\n",
       "      <th>2</th>\n",
       "      <td>2</td>\n",
       "      <td>119</td>\n",
       "      <td>122</td>\n",
       "      <td>129</td>\n",
       "      <td>121</td>\n",
       "      <td>124</td>\n",
       "      <td>131</td>\n",
       "      <td>124</td>\n",
       "      <td>127</td>\n",
       "      <td>134</td>\n",
       "      <td>...</td>\n",
       "      <td>96</td>\n",
       "      <td>96</td>\n",
       "      <td>98</td>\n",
       "      <td>94</td>\n",
       "      <td>94</td>\n",
       "      <td>96</td>\n",
       "      <td>93</td>\n",
       "      <td>93</td>\n",
       "      <td>95</td>\n",
       "      <td>0</td>\n",
       "    </tr>\n",
       "    <tr>\n",
       "      <th>3</th>\n",
       "      <td>3</td>\n",
       "      <td>129</td>\n",
       "      <td>128</td>\n",
       "      <td>126</td>\n",
       "      <td>131</td>\n",
       "      <td>130</td>\n",
       "      <td>128</td>\n",
       "      <td>135</td>\n",
       "      <td>134</td>\n",
       "      <td>132</td>\n",
       "      <td>...</td>\n",
       "      <td>109</td>\n",
       "      <td>108</td>\n",
       "      <td>106</td>\n",
       "      <td>106</td>\n",
       "      <td>105</td>\n",
       "      <td>103</td>\n",
       "      <td>103</td>\n",
       "      <td>102</td>\n",
       "      <td>100</td>\n",
       "      <td>7</td>\n",
       "    </tr>\n",
       "    <tr>\n",
       "      <th>4</th>\n",
       "      <td>4</td>\n",
       "      <td>132</td>\n",
       "      <td>131</td>\n",
       "      <td>129</td>\n",
       "      <td>133</td>\n",
       "      <td>132</td>\n",
       "      <td>130</td>\n",
       "      <td>136</td>\n",
       "      <td>135</td>\n",
       "      <td>133</td>\n",
       "      <td>...</td>\n",
       "      <td>113</td>\n",
       "      <td>109</td>\n",
       "      <td>106</td>\n",
       "      <td>111</td>\n",
       "      <td>107</td>\n",
       "      <td>104</td>\n",
       "      <td>110</td>\n",
       "      <td>106</td>\n",
       "      <td>103</td>\n",
       "      <td>5</td>\n",
       "    </tr>\n",
       "  </tbody>\n",
       "</table>\n",
       "<p>5 rows × 30002 columns</p>\n",
       "</div>"
      ],
      "text/plain": [
       "   id    1    2    3    4    5    6    7    8    9  ...  29992  29993  29994  \\\n",
       "0   0  128  131  138  128  131  138  130  133  138  ...    120    118    119   \n",
       "1   1  107  108  113  107  108  113  108  109  114  ...    129    129    131   \n",
       "2   2  119  122  129  121  124  131  124  127  134  ...     96     96     98   \n",
       "3   3  129  128  126  131  130  128  135  134  132  ...    109    108    106   \n",
       "4   4  132  131  129  133  132  130  136  135  133  ...    113    109    106   \n",
       "\n",
       "   29995  29996  29997  29998  29999  30000  label  \n",
       "0    119    117    118    119    117    118      1  \n",
       "1    129    129    131    129    129    131      7  \n",
       "2     94     94     96     93     93     95      0  \n",
       "3    106    105    103    103    102    100      7  \n",
       "4    111    107    104    110    106    103      5  \n",
       "\n",
       "[5 rows x 30002 columns]"
      ]
     },
     "execution_count": 4,
     "metadata": {},
     "output_type": "execute_result"
    }
   ],
   "source": [
    "train.head()"
   ]
  },
  {
   "cell_type": "code",
   "execution_count": 5,
   "id": "2b141aba",
   "metadata": {
    "execution": {
     "iopub.execute_input": "2022-11-13T10:20:36.186027Z",
     "iopub.status.busy": "2022-11-13T10:20:36.185580Z",
     "iopub.status.idle": "2022-11-13T10:20:36.204039Z",
     "shell.execute_reply": "2022-11-13T10:20:36.202994Z"
    },
    "papermill": {
     "duration": 0.027314,
     "end_time": "2022-11-13T10:20:36.206043",
     "exception": false,
     "start_time": "2022-11-13T10:20:36.178729",
     "status": "completed"
    },
    "tags": []
   },
   "outputs": [
    {
     "data": {
      "text/html": [
       "<div>\n",
       "<style scoped>\n",
       "    .dataframe tbody tr th:only-of-type {\n",
       "        vertical-align: middle;\n",
       "    }\n",
       "\n",
       "    .dataframe tbody tr th {\n",
       "        vertical-align: top;\n",
       "    }\n",
       "\n",
       "    .dataframe thead th {\n",
       "        text-align: right;\n",
       "    }\n",
       "</style>\n",
       "<table border=\"1\" class=\"dataframe\">\n",
       "  <thead>\n",
       "    <tr style=\"text-align: right;\">\n",
       "      <th></th>\n",
       "      <th>id</th>\n",
       "      <th>1</th>\n",
       "      <th>2</th>\n",
       "      <th>3</th>\n",
       "      <th>4</th>\n",
       "      <th>5</th>\n",
       "      <th>6</th>\n",
       "      <th>7</th>\n",
       "      <th>8</th>\n",
       "      <th>9</th>\n",
       "      <th>...</th>\n",
       "      <th>29992</th>\n",
       "      <th>29993</th>\n",
       "      <th>29994</th>\n",
       "      <th>29995</th>\n",
       "      <th>29996</th>\n",
       "      <th>29997</th>\n",
       "      <th>29998</th>\n",
       "      <th>29999</th>\n",
       "      <th>30000</th>\n",
       "      <th>label</th>\n",
       "    </tr>\n",
       "  </thead>\n",
       "  <tbody>\n",
       "    <tr>\n",
       "      <th>0</th>\n",
       "      <td>0</td>\n",
       "      <td>121</td>\n",
       "      <td>122</td>\n",
       "      <td>127</td>\n",
       "      <td>122</td>\n",
       "      <td>123</td>\n",
       "      <td>128</td>\n",
       "      <td>123</td>\n",
       "      <td>124</td>\n",
       "      <td>129</td>\n",
       "      <td>...</td>\n",
       "      <td>96</td>\n",
       "      <td>96</td>\n",
       "      <td>96</td>\n",
       "      <td>95</td>\n",
       "      <td>95</td>\n",
       "      <td>95</td>\n",
       "      <td>94</td>\n",
       "      <td>94</td>\n",
       "      <td>94</td>\n",
       "      <td>8</td>\n",
       "    </tr>\n",
       "    <tr>\n",
       "      <th>1</th>\n",
       "      <td>1</td>\n",
       "      <td>116</td>\n",
       "      <td>116</td>\n",
       "      <td>118</td>\n",
       "      <td>119</td>\n",
       "      <td>119</td>\n",
       "      <td>121</td>\n",
       "      <td>121</td>\n",
       "      <td>122</td>\n",
       "      <td>124</td>\n",
       "      <td>...</td>\n",
       "      <td>93</td>\n",
       "      <td>94</td>\n",
       "      <td>96</td>\n",
       "      <td>92</td>\n",
       "      <td>93</td>\n",
       "      <td>95</td>\n",
       "      <td>90</td>\n",
       "      <td>91</td>\n",
       "      <td>93</td>\n",
       "      <td>0</td>\n",
       "    </tr>\n",
       "    <tr>\n",
       "      <th>2</th>\n",
       "      <td>2</td>\n",
       "      <td>125</td>\n",
       "      <td>125</td>\n",
       "      <td>127</td>\n",
       "      <td>126</td>\n",
       "      <td>126</td>\n",
       "      <td>128</td>\n",
       "      <td>127</td>\n",
       "      <td>127</td>\n",
       "      <td>127</td>\n",
       "      <td>...</td>\n",
       "      <td>105</td>\n",
       "      <td>106</td>\n",
       "      <td>111</td>\n",
       "      <td>103</td>\n",
       "      <td>104</td>\n",
       "      <td>109</td>\n",
       "      <td>102</td>\n",
       "      <td>103</td>\n",
       "      <td>108</td>\n",
       "      <td>4</td>\n",
       "    </tr>\n",
       "    <tr>\n",
       "      <th>3</th>\n",
       "      <td>3</td>\n",
       "      <td>124</td>\n",
       "      <td>124</td>\n",
       "      <td>132</td>\n",
       "      <td>125</td>\n",
       "      <td>125</td>\n",
       "      <td>133</td>\n",
       "      <td>126</td>\n",
       "      <td>127</td>\n",
       "      <td>132</td>\n",
       "      <td>...</td>\n",
       "      <td>115</td>\n",
       "      <td>113</td>\n",
       "      <td>114</td>\n",
       "      <td>114</td>\n",
       "      <td>112</td>\n",
       "      <td>113</td>\n",
       "      <td>113</td>\n",
       "      <td>111</td>\n",
       "      <td>112</td>\n",
       "      <td>2</td>\n",
       "    </tr>\n",
       "    <tr>\n",
       "      <th>4</th>\n",
       "      <td>4</td>\n",
       "      <td>121</td>\n",
       "      <td>122</td>\n",
       "      <td>127</td>\n",
       "      <td>122</td>\n",
       "      <td>123</td>\n",
       "      <td>128</td>\n",
       "      <td>125</td>\n",
       "      <td>126</td>\n",
       "      <td>131</td>\n",
       "      <td>...</td>\n",
       "      <td>83</td>\n",
       "      <td>83</td>\n",
       "      <td>83</td>\n",
       "      <td>82</td>\n",
       "      <td>82</td>\n",
       "      <td>82</td>\n",
       "      <td>81</td>\n",
       "      <td>81</td>\n",
       "      <td>81</td>\n",
       "      <td>9</td>\n",
       "    </tr>\n",
       "  </tbody>\n",
       "</table>\n",
       "<p>5 rows × 30002 columns</p>\n",
       "</div>"
      ],
      "text/plain": [
       "   id    1    2    3    4    5    6    7    8    9  ...  29992  29993  29994  \\\n",
       "0   0  121  122  127  122  123  128  123  124  129  ...     96     96     96   \n",
       "1   1  116  116  118  119  119  121  121  122  124  ...     93     94     96   \n",
       "2   2  125  125  127  126  126  128  127  127  127  ...    105    106    111   \n",
       "3   3  124  124  132  125  125  133  126  127  132  ...    115    113    114   \n",
       "4   4  121  122  127  122  123  128  125  126  131  ...     83     83     83   \n",
       "\n",
       "   29995  29996  29997  29998  29999  30000  label  \n",
       "0     95     95     95     94     94     94      8  \n",
       "1     92     93     95     90     91     93      0  \n",
       "2    103    104    109    102    103    108      4  \n",
       "3    114    112    113    113    111    112      2  \n",
       "4     82     82     82     81     81     81      9  \n",
       "\n",
       "[5 rows x 30002 columns]"
      ]
     },
     "execution_count": 5,
     "metadata": {},
     "output_type": "execute_result"
    }
   ],
   "source": [
    "valid.head()"
   ]
  },
  {
   "cell_type": "code",
   "execution_count": 6,
   "id": "61305dce",
   "metadata": {
    "execution": {
     "iopub.execute_input": "2022-11-13T10:20:36.220749Z",
     "iopub.status.busy": "2022-11-13T10:20:36.219907Z",
     "iopub.status.idle": "2022-11-13T10:20:36.237525Z",
     "shell.execute_reply": "2022-11-13T10:20:36.236507Z"
    },
    "papermill": {
     "duration": 0.027078,
     "end_time": "2022-11-13T10:20:36.239789",
     "exception": false,
     "start_time": "2022-11-13T10:20:36.212711",
     "status": "completed"
    },
    "tags": []
   },
   "outputs": [
    {
     "data": {
      "text/html": [
       "<div>\n",
       "<style scoped>\n",
       "    .dataframe tbody tr th:only-of-type {\n",
       "        vertical-align: middle;\n",
       "    }\n",
       "\n",
       "    .dataframe tbody tr th {\n",
       "        vertical-align: top;\n",
       "    }\n",
       "\n",
       "    .dataframe thead th {\n",
       "        text-align: right;\n",
       "    }\n",
       "</style>\n",
       "<table border=\"1\" class=\"dataframe\">\n",
       "  <thead>\n",
       "    <tr style=\"text-align: right;\">\n",
       "      <th></th>\n",
       "      <th>id</th>\n",
       "      <th>1</th>\n",
       "      <th>2</th>\n",
       "      <th>3</th>\n",
       "      <th>4</th>\n",
       "      <th>5</th>\n",
       "      <th>6</th>\n",
       "      <th>7</th>\n",
       "      <th>8</th>\n",
       "      <th>9</th>\n",
       "      <th>...</th>\n",
       "      <th>29991</th>\n",
       "      <th>29992</th>\n",
       "      <th>29993</th>\n",
       "      <th>29994</th>\n",
       "      <th>29995</th>\n",
       "      <th>29996</th>\n",
       "      <th>29997</th>\n",
       "      <th>29998</th>\n",
       "      <th>29999</th>\n",
       "      <th>30000</th>\n",
       "    </tr>\n",
       "  </thead>\n",
       "  <tbody>\n",
       "    <tr>\n",
       "      <th>0</th>\n",
       "      <td>0</td>\n",
       "      <td>122</td>\n",
       "      <td>122</td>\n",
       "      <td>130</td>\n",
       "      <td>125</td>\n",
       "      <td>125</td>\n",
       "      <td>133</td>\n",
       "      <td>127</td>\n",
       "      <td>128</td>\n",
       "      <td>133</td>\n",
       "      <td>...</td>\n",
       "      <td>108</td>\n",
       "      <td>107</td>\n",
       "      <td>107</td>\n",
       "      <td>107</td>\n",
       "      <td>106</td>\n",
       "      <td>106</td>\n",
       "      <td>106</td>\n",
       "      <td>106</td>\n",
       "      <td>106</td>\n",
       "      <td>106</td>\n",
       "    </tr>\n",
       "    <tr>\n",
       "      <th>1</th>\n",
       "      <td>1</td>\n",
       "      <td>113</td>\n",
       "      <td>112</td>\n",
       "      <td>107</td>\n",
       "      <td>116</td>\n",
       "      <td>115</td>\n",
       "      <td>110</td>\n",
       "      <td>120</td>\n",
       "      <td>119</td>\n",
       "      <td>114</td>\n",
       "      <td>...</td>\n",
       "      <td>120</td>\n",
       "      <td>127</td>\n",
       "      <td>122</td>\n",
       "      <td>118</td>\n",
       "      <td>125</td>\n",
       "      <td>120</td>\n",
       "      <td>116</td>\n",
       "      <td>123</td>\n",
       "      <td>118</td>\n",
       "      <td>114</td>\n",
       "    </tr>\n",
       "    <tr>\n",
       "      <th>2</th>\n",
       "      <td>2</td>\n",
       "      <td>116</td>\n",
       "      <td>117</td>\n",
       "      <td>122</td>\n",
       "      <td>118</td>\n",
       "      <td>119</td>\n",
       "      <td>124</td>\n",
       "      <td>120</td>\n",
       "      <td>121</td>\n",
       "      <td>126</td>\n",
       "      <td>...</td>\n",
       "      <td>95</td>\n",
       "      <td>96</td>\n",
       "      <td>96</td>\n",
       "      <td>94</td>\n",
       "      <td>95</td>\n",
       "      <td>95</td>\n",
       "      <td>93</td>\n",
       "      <td>94</td>\n",
       "      <td>94</td>\n",
       "      <td>92</td>\n",
       "    </tr>\n",
       "    <tr>\n",
       "      <th>3</th>\n",
       "      <td>3</td>\n",
       "      <td>116</td>\n",
       "      <td>116</td>\n",
       "      <td>114</td>\n",
       "      <td>117</td>\n",
       "      <td>117</td>\n",
       "      <td>115</td>\n",
       "      <td>119</td>\n",
       "      <td>119</td>\n",
       "      <td>119</td>\n",
       "      <td>...</td>\n",
       "      <td>112</td>\n",
       "      <td>104</td>\n",
       "      <td>105</td>\n",
       "      <td>109</td>\n",
       "      <td>102</td>\n",
       "      <td>103</td>\n",
       "      <td>107</td>\n",
       "      <td>102</td>\n",
       "      <td>103</td>\n",
       "      <td>107</td>\n",
       "    </tr>\n",
       "    <tr>\n",
       "      <th>4</th>\n",
       "      <td>4</td>\n",
       "      <td>129</td>\n",
       "      <td>129</td>\n",
       "      <td>131</td>\n",
       "      <td>129</td>\n",
       "      <td>129</td>\n",
       "      <td>131</td>\n",
       "      <td>130</td>\n",
       "      <td>130</td>\n",
       "      <td>132</td>\n",
       "      <td>...</td>\n",
       "      <td>115</td>\n",
       "      <td>109</td>\n",
       "      <td>110</td>\n",
       "      <td>114</td>\n",
       "      <td>108</td>\n",
       "      <td>109</td>\n",
       "      <td>113</td>\n",
       "      <td>108</td>\n",
       "      <td>109</td>\n",
       "      <td>113</td>\n",
       "    </tr>\n",
       "  </tbody>\n",
       "</table>\n",
       "<p>5 rows × 30001 columns</p>\n",
       "</div>"
      ],
      "text/plain": [
       "   id    1    2    3    4    5    6    7    8    9  ...  29991  29992  29993  \\\n",
       "0   0  122  122  130  125  125  133  127  128  133  ...    108    107    107   \n",
       "1   1  113  112  107  116  115  110  120  119  114  ...    120    127    122   \n",
       "2   2  116  117  122  118  119  124  120  121  126  ...     95     96     96   \n",
       "3   3  116  116  114  117  117  115  119  119  119  ...    112    104    105   \n",
       "4   4  129  129  131  129  129  131  130  130  132  ...    115    109    110   \n",
       "\n",
       "   29994  29995  29996  29997  29998  29999  30000  \n",
       "0    107    106    106    106    106    106    106  \n",
       "1    118    125    120    116    123    118    114  \n",
       "2     94     95     95     93     94     94     92  \n",
       "3    109    102    103    107    102    103    107  \n",
       "4    114    108    109    113    108    109    113  \n",
       "\n",
       "[5 rows x 30001 columns]"
      ]
     },
     "execution_count": 6,
     "metadata": {},
     "output_type": "execute_result"
    }
   ],
   "source": [
    "test.head()"
   ]
  },
  {
   "cell_type": "code",
   "execution_count": 7,
   "id": "1fc107e3",
   "metadata": {
    "execution": {
     "iopub.execute_input": "2022-11-13T10:20:36.255697Z",
     "iopub.status.busy": "2022-11-13T10:20:36.254854Z",
     "iopub.status.idle": "2022-11-13T10:20:36.405361Z",
     "shell.execute_reply": "2022-11-13T10:20:36.404397Z"
    },
    "papermill": {
     "duration": 0.161661,
     "end_time": "2022-11-13T10:20:36.407974",
     "exception": false,
     "start_time": "2022-11-13T10:20:36.246313",
     "status": "completed"
    },
    "tags": []
   },
   "outputs": [],
   "source": [
    "x0=train.drop(['id','label'],axis=1)\n",
    "y0=train['label']\n",
    "vx0=valid.drop(['id','label'],axis=1)\n",
    "vy0=valid['label']\n",
    "tx0=test.iloc[:,1:]"
   ]
  },
  {
   "cell_type": "code",
   "execution_count": 8,
   "id": "c70ea94d",
   "metadata": {
    "execution": {
     "iopub.execute_input": "2022-11-13T10:20:36.422897Z",
     "iopub.status.busy": "2022-11-13T10:20:36.422604Z",
     "iopub.status.idle": "2022-11-13T10:20:36.592087Z",
     "shell.execute_reply": "2022-11-13T10:20:36.590987Z"
    },
    "papermill": {
     "duration": 0.179925,
     "end_time": "2022-11-13T10:20:36.594826",
     "exception": false,
     "start_time": "2022-11-13T10:20:36.414901",
     "status": "completed"
    },
    "tags": []
   },
   "outputs": [
    {
     "name": "stdout",
     "output_type": "stream",
     "text": [
      "(1712, 100, 100, 3) (300, 100, 100, 3) (50, 100, 100, 3)\n"
     ]
    }
   ],
   "source": [
    "x_train=np.array(x0).reshape(1712,100,100,-1)\n",
    "x_valid=np.array(vx0).reshape(300,100,100,-1)\n",
    "x_test=np.array(tx0).reshape(50,100,100,-1)\n",
    "print(x_train.shape, x_valid.shape, x_test.shape)"
   ]
  },
  {
   "cell_type": "code",
   "execution_count": 9,
   "id": "1da672de",
   "metadata": {
    "execution": {
     "iopub.execute_input": "2022-11-13T10:20:36.611609Z",
     "iopub.status.busy": "2022-11-13T10:20:36.609969Z",
     "iopub.status.idle": "2022-11-13T10:20:36.614866Z",
     "shell.execute_reply": "2022-11-13T10:20:36.613950Z"
    },
    "papermill": {
     "duration": 0.01455,
     "end_time": "2022-11-13T10:20:36.616805",
     "exception": false,
     "start_time": "2022-11-13T10:20:36.602255",
     "status": "completed"
    },
    "tags": []
   },
   "outputs": [],
   "source": [
    "# mean = np.mean(x_train, axis=(0,1,2,3))\n",
    "# std = np.std(x_train, axis=(0,1,2,3))\n",
    "# x_train = (x_train-mean)/(std+1e-7)\n",
    "# x_valid = (x_valid-mean)/(std+1e-7)\n",
    "# x_test = (x_test-mean)/(std+1e-7)"
   ]
  },
  {
   "cell_type": "code",
   "execution_count": 10,
   "id": "75ea4b96",
   "metadata": {
    "execution": {
     "iopub.execute_input": "2022-11-13T10:20:36.631240Z",
     "iopub.status.busy": "2022-11-13T10:20:36.630975Z",
     "iopub.status.idle": "2022-11-13T10:20:36.796520Z",
     "shell.execute_reply": "2022-11-13T10:20:36.795532Z"
    },
    "papermill": {
     "duration": 0.175551,
     "end_time": "2022-11-13T10:20:36.798914",
     "exception": false,
     "start_time": "2022-11-13T10:20:36.623363",
     "status": "completed"
    },
    "tags": []
   },
   "outputs": [],
   "source": [
    "from keras.preprocessing.image import ImageDataGenerator\n",
    "datagen = ImageDataGenerator(\n",
    "    rotation_range=5, \n",
    "    width_shift_range=0.1,\n",
    "    height_shift_range=0.1,\n",
    "    horizontal_flip=True,\n",
    "    vertical_flip=True\n",
    ")\n",
    "datagen.fit(x_train)"
   ]
  },
  {
   "cell_type": "code",
   "execution_count": 11,
   "id": "e0751a55",
   "metadata": {
    "execution": {
     "iopub.execute_input": "2022-11-13T10:20:36.813637Z",
     "iopub.status.busy": "2022-11-13T10:20:36.813316Z",
     "iopub.status.idle": "2022-11-13T10:20:36.819190Z",
     "shell.execute_reply": "2022-11-13T10:20:36.818313Z"
    },
    "papermill": {
     "duration": 0.015316,
     "end_time": "2022-11-13T10:20:36.821108",
     "exception": false,
     "start_time": "2022-11-13T10:20:36.805792",
     "status": "completed"
    },
    "tags": []
   },
   "outputs": [],
   "source": [
    "from keras.utils import np_utils\n",
    "num_classes = 10\n",
    "y_train = np_utils.to_categorical(y0, num_classes)\n",
    "y_valid = np_utils.to_categorical(vy0, num_classes)"
   ]
  },
  {
   "cell_type": "code",
   "execution_count": 12,
   "id": "b34b8ed8",
   "metadata": {
    "execution": {
     "iopub.execute_input": "2022-11-13T10:20:36.835634Z",
     "iopub.status.busy": "2022-11-13T10:20:36.835365Z",
     "iopub.status.idle": "2022-11-13T10:20:40.426364Z",
     "shell.execute_reply": "2022-11-13T10:20:40.425400Z"
    },
    "papermill": {
     "duration": 3.601162,
     "end_time": "2022-11-13T10:20:40.428825",
     "exception": false,
     "start_time": "2022-11-13T10:20:36.827663",
     "status": "completed"
    },
    "tags": []
   },
   "outputs": [
    {
     "name": "stderr",
     "output_type": "stream",
     "text": [
      "2022-11-13 10:20:37.296439: I tensorflow/stream_executor/cuda/cuda_gpu_executor.cc:937] successful NUMA node read from SysFS had negative value (-1), but there must be at least one NUMA node, so returning NUMA node zero\n",
      "2022-11-13 10:20:37.402211: I tensorflow/stream_executor/cuda/cuda_gpu_executor.cc:937] successful NUMA node read from SysFS had negative value (-1), but there must be at least one NUMA node, so returning NUMA node zero\n",
      "2022-11-13 10:20:37.403019: I tensorflow/stream_executor/cuda/cuda_gpu_executor.cc:937] successful NUMA node read from SysFS had negative value (-1), but there must be at least one NUMA node, so returning NUMA node zero\n",
      "2022-11-13 10:20:37.405035: I tensorflow/core/platform/cpu_feature_guard.cc:142] This TensorFlow binary is optimized with oneAPI Deep Neural Network Library (oneDNN) to use the following CPU instructions in performance-critical operations:  AVX2 AVX512F FMA\n",
      "To enable them in other operations, rebuild TensorFlow with the appropriate compiler flags.\n",
      "2022-11-13 10:20:37.405340: I tensorflow/stream_executor/cuda/cuda_gpu_executor.cc:937] successful NUMA node read from SysFS had negative value (-1), but there must be at least one NUMA node, so returning NUMA node zero\n",
      "2022-11-13 10:20:37.406088: I tensorflow/stream_executor/cuda/cuda_gpu_executor.cc:937] successful NUMA node read from SysFS had negative value (-1), but there must be at least one NUMA node, so returning NUMA node zero\n",
      "2022-11-13 10:20:37.406784: I tensorflow/stream_executor/cuda/cuda_gpu_executor.cc:937] successful NUMA node read from SysFS had negative value (-1), but there must be at least one NUMA node, so returning NUMA node zero\n",
      "2022-11-13 10:20:39.489451: I tensorflow/stream_executor/cuda/cuda_gpu_executor.cc:937] successful NUMA node read from SysFS had negative value (-1), but there must be at least one NUMA node, so returning NUMA node zero\n",
      "2022-11-13 10:20:39.490268: I tensorflow/stream_executor/cuda/cuda_gpu_executor.cc:937] successful NUMA node read from SysFS had negative value (-1), but there must be at least one NUMA node, so returning NUMA node zero\n",
      "2022-11-13 10:20:39.490971: I tensorflow/stream_executor/cuda/cuda_gpu_executor.cc:937] successful NUMA node read from SysFS had negative value (-1), but there must be at least one NUMA node, so returning NUMA node zero\n",
      "2022-11-13 10:20:39.491590: I tensorflow/core/common_runtime/gpu/gpu_device.cc:1510] Created device /job:localhost/replica:0/task:0/device:GPU:0 with 15401 MB memory:  -> device: 0, name: Tesla P100-PCIE-16GB, pci bus id: 0000:00:04.0, compute capability: 6.0\n"
     ]
    }
   ],
   "source": [
    "import tensorflow as tf\n",
    "from tensorflow.keras import layers\n",
    "\n",
    "IMG_SIZE = 224\n",
    "\n",
    "x_train = x_train.astype('float32')\n",
    "x_valid = x_valid.astype('float32')\n",
    "x_test = x_test.astype('float32')\n",
    "\n",
    "resize_and_rescale = tf.keras.Sequential([\n",
    "layers.experimental.preprocessing.Resizing(IMG_SIZE, IMG_SIZE),\n",
    "layers.experimental.preprocessing.Rescaling(1./255)\n",
    "])\n",
    "\n",
    "x_train = resize_and_rescale(x_train)\n",
    "x_valid = resize_and_rescale(x_valid)\n",
    "x_test = resize_and_rescale(x_test)"
   ]
  },
  {
   "cell_type": "code",
   "execution_count": 13,
   "id": "50633d3d",
   "metadata": {
    "execution": {
     "iopub.execute_input": "2022-11-13T10:20:40.444301Z",
     "iopub.status.busy": "2022-11-13T10:20:40.443728Z",
     "iopub.status.idle": "2022-11-13T10:20:40.449772Z",
     "shell.execute_reply": "2022-11-13T10:20:40.448659Z"
    },
    "papermill": {
     "duration": 0.015959,
     "end_time": "2022-11-13T10:20:40.451834",
     "exception": false,
     "start_time": "2022-11-13T10:20:40.435875",
     "status": "completed"
    },
    "tags": []
   },
   "outputs": [
    {
     "name": "stdout",
     "output_type": "stream",
     "text": [
      "(1712, 224, 224, 3) (300, 224, 224, 3) (50, 224, 224, 3)\n"
     ]
    }
   ],
   "source": [
    "print(x_train.shape, x_valid.shape, x_test.shape)"
   ]
  },
  {
   "cell_type": "code",
   "execution_count": null,
   "id": "41f3ed73",
   "metadata": {
    "papermill": {
     "duration": 0.0065,
     "end_time": "2022-11-13T10:20:40.465061",
     "exception": false,
     "start_time": "2022-11-13T10:20:40.458561",
     "status": "completed"
    },
    "tags": []
   },
   "outputs": [],
   "source": []
  },
  {
   "cell_type": "code",
   "execution_count": 14,
   "id": "fff9bcd6",
   "metadata": {
    "execution": {
     "iopub.execute_input": "2022-11-13T10:20:40.479730Z",
     "iopub.status.busy": "2022-11-13T10:20:40.479458Z",
     "iopub.status.idle": "2022-11-13T10:20:41.192038Z",
     "shell.execute_reply": "2022-11-13T10:20:41.190995Z"
    },
    "papermill": {
     "duration": 0.723593,
     "end_time": "2022-11-13T10:20:41.195331",
     "exception": false,
     "start_time": "2022-11-13T10:20:40.471738",
     "status": "completed"
    },
    "tags": []
   },
   "outputs": [
    {
     "name": "stdout",
     "output_type": "stream",
     "text": [
      "Downloading data from https://storage.googleapis.com/tensorflow/keras-applications/vgg16/vgg16_weights_tf_dim_ordering_tf_kernels_notop.h5\n",
      "58892288/58889256 [==============================] - 0s 0us/step\n",
      "58900480/58889256 [==============================] - 0s 0us/step\n"
     ]
    }
   ],
   "source": [
    "base_model = vgg16.VGG16(weights=\"imagenet\",include_top=False,input_shape=(224,224,3), pooling='avg')"
   ]
  },
  {
   "cell_type": "code",
   "execution_count": 15,
   "id": "8a771d87",
   "metadata": {
    "execution": {
     "iopub.execute_input": "2022-11-13T10:20:41.227003Z",
     "iopub.status.busy": "2022-11-13T10:20:41.226638Z",
     "iopub.status.idle": "2022-11-13T10:20:41.237648Z",
     "shell.execute_reply": "2022-11-13T10:20:41.236501Z"
    },
    "papermill": {
     "duration": 0.026522,
     "end_time": "2022-11-13T10:20:41.240672",
     "exception": false,
     "start_time": "2022-11-13T10:20:41.214150",
     "status": "completed"
    },
    "tags": []
   },
   "outputs": [
    {
     "name": "stdout",
     "output_type": "stream",
     "text": [
      "Model: \"vgg16\"\n",
      "_________________________________________________________________\n",
      "Layer (type)                 Output Shape              Param #   \n",
      "=================================================================\n",
      "input_1 (InputLayer)         [(None, 224, 224, 3)]     0         \n",
      "_________________________________________________________________\n",
      "block1_conv1 (Conv2D)        (None, 224, 224, 64)      1792      \n",
      "_________________________________________________________________\n",
      "block1_conv2 (Conv2D)        (None, 224, 224, 64)      36928     \n",
      "_________________________________________________________________\n",
      "block1_pool (MaxPooling2D)   (None, 112, 112, 64)      0         \n",
      "_________________________________________________________________\n",
      "block2_conv1 (Conv2D)        (None, 112, 112, 128)     73856     \n",
      "_________________________________________________________________\n",
      "block2_conv2 (Conv2D)        (None, 112, 112, 128)     147584    \n",
      "_________________________________________________________________\n",
      "block2_pool (MaxPooling2D)   (None, 56, 56, 128)       0         \n",
      "_________________________________________________________________\n",
      "block3_conv1 (Conv2D)        (None, 56, 56, 256)       295168    \n",
      "_________________________________________________________________\n",
      "block3_conv2 (Conv2D)        (None, 56, 56, 256)       590080    \n",
      "_________________________________________________________________\n",
      "block3_conv3 (Conv2D)        (None, 56, 56, 256)       590080    \n",
      "_________________________________________________________________\n",
      "block3_pool (MaxPooling2D)   (None, 28, 28, 256)       0         \n",
      "_________________________________________________________________\n",
      "block4_conv1 (Conv2D)        (None, 28, 28, 512)       1180160   \n",
      "_________________________________________________________________\n",
      "block4_conv2 (Conv2D)        (None, 28, 28, 512)       2359808   \n",
      "_________________________________________________________________\n",
      "block4_conv3 (Conv2D)        (None, 28, 28, 512)       2359808   \n",
      "_________________________________________________________________\n",
      "block4_pool (MaxPooling2D)   (None, 14, 14, 512)       0         \n",
      "_________________________________________________________________\n",
      "block5_conv1 (Conv2D)        (None, 14, 14, 512)       2359808   \n",
      "_________________________________________________________________\n",
      "block5_conv2 (Conv2D)        (None, 14, 14, 512)       2359808   \n",
      "_________________________________________________________________\n",
      "block5_conv3 (Conv2D)        (None, 14, 14, 512)       2359808   \n",
      "_________________________________________________________________\n",
      "block5_pool (MaxPooling2D)   (None, 7, 7, 512)         0         \n",
      "_________________________________________________________________\n",
      "global_average_pooling2d (Gl (None, 512)               0         \n",
      "=================================================================\n",
      "Total params: 14,714,688\n",
      "Trainable params: 14,714,688\n",
      "Non-trainable params: 0\n",
      "_________________________________________________________________\n"
     ]
    }
   ],
   "source": [
    "base_model.summary()"
   ]
  },
  {
   "cell_type": "code",
   "execution_count": 16,
   "id": "59470756",
   "metadata": {
    "execution": {
     "iopub.execute_input": "2022-11-13T10:20:41.268266Z",
     "iopub.status.busy": "2022-11-13T10:20:41.267939Z",
     "iopub.status.idle": "2022-11-13T10:20:41.280812Z",
     "shell.execute_reply": "2022-11-13T10:20:41.279919Z"
    },
    "papermill": {
     "duration": 0.03175,
     "end_time": "2022-11-13T10:20:41.283474",
     "exception": false,
     "start_time": "2022-11-13T10:20:41.251724",
     "status": "completed"
    },
    "tags": []
   },
   "outputs": [
    {
     "name": "stdout",
     "output_type": "stream",
     "text": [
      "Model: \"vgg16\"\n",
      "_________________________________________________________________\n",
      "Layer (type)                 Output Shape              Param #   \n",
      "=================================================================\n",
      "input_1 (InputLayer)         [(None, 224, 224, 3)]     0         \n",
      "_________________________________________________________________\n",
      "block1_conv1 (Conv2D)        (None, 224, 224, 64)      1792      \n",
      "_________________________________________________________________\n",
      "block1_conv2 (Conv2D)        (None, 224, 224, 64)      36928     \n",
      "_________________________________________________________________\n",
      "block1_pool (MaxPooling2D)   (None, 112, 112, 64)      0         \n",
      "_________________________________________________________________\n",
      "block2_conv1 (Conv2D)        (None, 112, 112, 128)     73856     \n",
      "_________________________________________________________________\n",
      "block2_conv2 (Conv2D)        (None, 112, 112, 128)     147584    \n",
      "_________________________________________________________________\n",
      "block2_pool (MaxPooling2D)   (None, 56, 56, 128)       0         \n",
      "_________________________________________________________________\n",
      "block3_conv1 (Conv2D)        (None, 56, 56, 256)       295168    \n",
      "_________________________________________________________________\n",
      "block3_conv2 (Conv2D)        (None, 56, 56, 256)       590080    \n",
      "_________________________________________________________________\n",
      "block3_conv3 (Conv2D)        (None, 56, 56, 256)       590080    \n",
      "_________________________________________________________________\n",
      "block3_pool (MaxPooling2D)   (None, 28, 28, 256)       0         \n",
      "_________________________________________________________________\n",
      "block4_conv1 (Conv2D)        (None, 28, 28, 512)       1180160   \n",
      "_________________________________________________________________\n",
      "block4_conv2 (Conv2D)        (None, 28, 28, 512)       2359808   \n",
      "_________________________________________________________________\n",
      "block4_conv3 (Conv2D)        (None, 28, 28, 512)       2359808   \n",
      "_________________________________________________________________\n",
      "block4_pool (MaxPooling2D)   (None, 14, 14, 512)       0         \n",
      "_________________________________________________________________\n",
      "block5_conv1 (Conv2D)        (None, 14, 14, 512)       2359808   \n",
      "_________________________________________________________________\n",
      "block5_conv2 (Conv2D)        (None, 14, 14, 512)       2359808   \n",
      "_________________________________________________________________\n",
      "block5_conv3 (Conv2D)        (None, 14, 14, 512)       2359808   \n",
      "_________________________________________________________________\n",
      "block5_pool (MaxPooling2D)   (None, 7, 7, 512)         0         \n",
      "_________________________________________________________________\n",
      "global_average_pooling2d (Gl (None, 512)               0         \n",
      "=================================================================\n",
      "Total params: 14,714,688\n",
      "Trainable params: 7,079,424\n",
      "Non-trainable params: 7,635,264\n",
      "_________________________________________________________________\n"
     ]
    }
   ],
   "source": [
    "for layer in base_model.layers[:-5]:\n",
    "    layer.trainable = False\n",
    "    \n",
    "base_model.summary()"
   ]
  },
  {
   "cell_type": "code",
   "execution_count": 17,
   "id": "c3196930",
   "metadata": {
    "execution": {
     "iopub.execute_input": "2022-11-13T10:20:41.306891Z",
     "iopub.status.busy": "2022-11-13T10:20:41.306584Z",
     "iopub.status.idle": "2022-11-13T10:20:41.332922Z",
     "shell.execute_reply": "2022-11-13T10:20:41.331532Z"
    },
    "papermill": {
     "duration": 0.041916,
     "end_time": "2022-11-13T10:20:41.336384",
     "exception": false,
     "start_time": "2022-11-13T10:20:41.294468",
     "status": "completed"
    },
    "tags": []
   },
   "outputs": [
    {
     "name": "stdout",
     "output_type": "stream",
     "text": [
      "Model: \"model\"\n",
      "_________________________________________________________________\n",
      "Layer (type)                 Output Shape              Param #   \n",
      "=================================================================\n",
      "input_1 (InputLayer)         [(None, 224, 224, 3)]     0         \n",
      "_________________________________________________________________\n",
      "block1_conv1 (Conv2D)        (None, 224, 224, 64)      1792      \n",
      "_________________________________________________________________\n",
      "block1_conv2 (Conv2D)        (None, 224, 224, 64)      36928     \n",
      "_________________________________________________________________\n",
      "block1_pool (MaxPooling2D)   (None, 112, 112, 64)      0         \n",
      "_________________________________________________________________\n",
      "block2_conv1 (Conv2D)        (None, 112, 112, 128)     73856     \n",
      "_________________________________________________________________\n",
      "block2_conv2 (Conv2D)        (None, 112, 112, 128)     147584    \n",
      "_________________________________________________________________\n",
      "block2_pool (MaxPooling2D)   (None, 56, 56, 128)       0         \n",
      "_________________________________________________________________\n",
      "block3_conv1 (Conv2D)        (None, 56, 56, 256)       295168    \n",
      "_________________________________________________________________\n",
      "block3_conv2 (Conv2D)        (None, 56, 56, 256)       590080    \n",
      "_________________________________________________________________\n",
      "block3_conv3 (Conv2D)        (None, 56, 56, 256)       590080    \n",
      "_________________________________________________________________\n",
      "block3_pool (MaxPooling2D)   (None, 28, 28, 256)       0         \n",
      "_________________________________________________________________\n",
      "block4_conv1 (Conv2D)        (None, 28, 28, 512)       1180160   \n",
      "_________________________________________________________________\n",
      "block4_conv2 (Conv2D)        (None, 28, 28, 512)       2359808   \n",
      "_________________________________________________________________\n",
      "block4_conv3 (Conv2D)        (None, 28, 28, 512)       2359808   \n",
      "_________________________________________________________________\n",
      "block4_pool (MaxPooling2D)   (None, 14, 14, 512)       0         \n",
      "_________________________________________________________________\n",
      "block5_conv1 (Conv2D)        (None, 14, 14, 512)       2359808   \n",
      "_________________________________________________________________\n",
      "block5_conv2 (Conv2D)        (None, 14, 14, 512)       2359808   \n",
      "_________________________________________________________________\n",
      "block5_conv3 (Conv2D)        (None, 14, 14, 512)       2359808   \n",
      "_________________________________________________________________\n",
      "block5_pool (MaxPooling2D)   (None, 7, 7, 512)         0         \n",
      "_________________________________________________________________\n",
      "global_average_pooling2d (Gl (None, 512)               0         \n",
      "_________________________________________________________________\n",
      "softmax (Dense)              (None, 10)                5130      \n",
      "=================================================================\n",
      "Total params: 14,719,818\n",
      "Trainable params: 7,084,554\n",
      "Non-trainable params: 7,635,264\n",
      "_________________________________________________________________\n"
     ]
    }
   ],
   "source": [
    "last_output=base_model.output\n",
    "x=Dense(10, activation='softmax', name='softmax')(last_output)\n",
    "new_model = Model(inputs=base_model.input, outputs=x)\n",
    "new_model.summary()"
   ]
  },
  {
   "cell_type": "code",
   "execution_count": 18,
   "id": "3b6ee5b2",
   "metadata": {
    "execution": {
     "iopub.execute_input": "2022-11-13T10:20:41.360617Z",
     "iopub.status.busy": "2022-11-13T10:20:41.360295Z",
     "iopub.status.idle": "2022-11-13T10:20:41.380053Z",
     "shell.execute_reply": "2022-11-13T10:20:41.378720Z"
    },
    "papermill": {
     "duration": 0.035052,
     "end_time": "2022-11-13T10:20:41.383370",
     "exception": false,
     "start_time": "2022-11-13T10:20:41.348318",
     "status": "completed"
    },
    "tags": []
   },
   "outputs": [
    {
     "name": "stderr",
     "output_type": "stream",
     "text": [
      "/opt/conda/lib/python3.7/site-packages/keras/optimizer_v2/optimizer_v2.py:356: UserWarning: The `lr` argument is deprecated, use `learning_rate` instead.\n",
      "  \"The `lr` argument is deprecated, use `learning_rate` instead.\")\n"
     ]
    }
   ],
   "source": [
    "from tensorflow.keras.optimizers import Adam\n",
    "from keras.callbacks import ModelCheckpoint\n",
    "\n",
    "new_model.compile(Adam(lr=0.00001), loss='categorical_crossentropy', metrics=['accuracy'])\n",
    "\n",
    "checkpointer = ModelCheckpoint(filepath='signlanguage.model.hdf5',verbose=1,save_best_only=True)"
   ]
  },
  {
   "cell_type": "code",
   "execution_count": 19,
   "id": "1d7b53af",
   "metadata": {
    "execution": {
     "iopub.execute_input": "2022-11-13T10:20:41.407825Z",
     "iopub.status.busy": "2022-11-13T10:20:41.407515Z",
     "iopub.status.idle": "2022-11-13T10:21:28.314746Z",
     "shell.execute_reply": "2022-11-13T10:21:28.313557Z"
    },
    "papermill": {
     "duration": 46.922444,
     "end_time": "2022-11-13T10:21:28.317659",
     "exception": false,
     "start_time": "2022-11-13T10:20:41.395215",
     "status": "completed"
    },
    "tags": []
   },
   "outputs": [
    {
     "name": "stderr",
     "output_type": "stream",
     "text": [
      "2022-11-13 10:20:41.464069: W tensorflow/core/framework/cpu_allocator_impl.cc:80] Allocation of 1030815744 exceeds 10% of free system memory.\n",
      "2022-11-13 10:20:42.287744: I tensorflow/compiler/mlir/mlir_graph_optimization_pass.cc:185] None of the MLIR Optimization Passes are enabled (registered 2)\n"
     ]
    },
    {
     "name": "stdout",
     "output_type": "stream",
     "text": [
      "Epoch 1/35\n"
     ]
    },
    {
     "name": "stderr",
     "output_type": "stream",
     "text": [
      "2022-11-13 10:20:43.909085: I tensorflow/stream_executor/cuda/cuda_dnn.cc:369] Loaded cuDNN version 8005\n"
     ]
    },
    {
     "name": "stdout",
     "output_type": "stream",
     "text": [
      "18/18 - 10s - loss: 2.3583 - accuracy: 0.1167 - val_loss: 2.2126 - val_accuracy: 0.2333\n",
      "\n",
      "Epoch 00001: val_loss improved from inf to 2.21257, saving model to signlanguage.model.hdf5\n",
      "Epoch 2/35\n",
      "18/18 - 1s - loss: 2.2448 - accuracy: 0.1444 - val_loss: 2.1917 - val_accuracy: 0.3000\n",
      "\n",
      "Epoch 00002: val_loss improved from 2.21257 to 2.19171, saving model to signlanguage.model.hdf5\n",
      "Epoch 3/35\n",
      "18/18 - 1s - loss: 2.1396 - accuracy: 0.3667 - val_loss: 2.1955 - val_accuracy: 0.2667\n",
      "\n",
      "Epoch 00003: val_loss did not improve from 2.19171\n",
      "Epoch 4/35\n",
      "18/18 - 1s - loss: 2.0637 - accuracy: 0.4222 - val_loss: 2.1324 - val_accuracy: 0.3333\n",
      "\n",
      "Epoch 00004: val_loss improved from 2.19171 to 2.13235, saving model to signlanguage.model.hdf5\n",
      "Epoch 5/35\n",
      "18/18 - 1s - loss: 1.8971 - accuracy: 0.3500 - val_loss: 1.9982 - val_accuracy: 0.4667\n",
      "\n",
      "Epoch 00005: val_loss improved from 2.13235 to 1.99821, saving model to signlanguage.model.hdf5\n",
      "Epoch 6/35\n",
      "18/18 - 1s - loss: 1.7276 - accuracy: 0.5500 - val_loss: 1.8643 - val_accuracy: 0.4333\n",
      "\n",
      "Epoch 00006: val_loss improved from 1.99821 to 1.86426, saving model to signlanguage.model.hdf5\n",
      "Epoch 7/35\n",
      "18/18 - 1s - loss: 1.6208 - accuracy: 0.7000 - val_loss: 1.6953 - val_accuracy: 0.5000\n",
      "\n",
      "Epoch 00007: val_loss improved from 1.86426 to 1.69531, saving model to signlanguage.model.hdf5\n",
      "Epoch 8/35\n",
      "18/18 - 1s - loss: 1.4102 - accuracy: 0.7000 - val_loss: 1.5406 - val_accuracy: 0.7000\n",
      "\n",
      "Epoch 00008: val_loss improved from 1.69531 to 1.54060, saving model to signlanguage.model.hdf5\n",
      "Epoch 9/35\n",
      "18/18 - 1s - loss: 1.3021 - accuracy: 0.7111 - val_loss: 1.3204 - val_accuracy: 0.6667\n",
      "\n",
      "Epoch 00009: val_loss improved from 1.54060 to 1.32036, saving model to signlanguage.model.hdf5\n",
      "Epoch 10/35\n",
      "18/18 - 1s - loss: 1.1019 - accuracy: 0.7384 - val_loss: 1.2652 - val_accuracy: 0.4667\n",
      "\n",
      "Epoch 00010: val_loss improved from 1.32036 to 1.26523, saving model to signlanguage.model.hdf5\n",
      "Epoch 11/35\n",
      "18/18 - 1s - loss: 0.9214 - accuracy: 0.7556 - val_loss: 1.1856 - val_accuracy: 0.6667\n",
      "\n",
      "Epoch 00011: val_loss improved from 1.26523 to 1.18555, saving model to signlanguage.model.hdf5\n",
      "Epoch 12/35\n",
      "18/18 - 1s - loss: 0.8550 - accuracy: 0.8111 - val_loss: 0.9770 - val_accuracy: 0.8333\n",
      "\n",
      "Epoch 00012: val_loss improved from 1.18555 to 0.97699, saving model to signlanguage.model.hdf5\n",
      "Epoch 13/35\n",
      "18/18 - 1s - loss: 0.7938 - accuracy: 0.8444 - val_loss: 0.8744 - val_accuracy: 0.8333\n",
      "\n",
      "Epoch 00013: val_loss improved from 0.97699 to 0.87441, saving model to signlanguage.model.hdf5\n",
      "Epoch 14/35\n",
      "18/18 - 1s - loss: 0.7192 - accuracy: 0.8611 - val_loss: 0.7366 - val_accuracy: 0.9667\n",
      "\n",
      "Epoch 00014: val_loss improved from 0.87441 to 0.73656, saving model to signlanguage.model.hdf5\n",
      "Epoch 15/35\n",
      "18/18 - 1s - loss: 0.5972 - accuracy: 0.8944 - val_loss: 0.7191 - val_accuracy: 0.8333\n",
      "\n",
      "Epoch 00015: val_loss improved from 0.73656 to 0.71913, saving model to signlanguage.model.hdf5\n",
      "Epoch 16/35\n",
      "18/18 - 1s - loss: 0.4979 - accuracy: 0.8944 - val_loss: 0.5922 - val_accuracy: 0.9333\n",
      "\n",
      "Epoch 00016: val_loss improved from 0.71913 to 0.59217, saving model to signlanguage.model.hdf5\n",
      "Epoch 17/35\n",
      "18/18 - 1s - loss: 0.4359 - accuracy: 0.9333 - val_loss: 0.6586 - val_accuracy: 0.8000\n",
      "\n",
      "Epoch 00017: val_loss did not improve from 0.59217\n",
      "Epoch 18/35\n",
      "18/18 - 1s - loss: 0.4095 - accuracy: 0.9278 - val_loss: 0.5415 - val_accuracy: 0.9667\n",
      "\n",
      "Epoch 00018: val_loss improved from 0.59217 to 0.54154, saving model to signlanguage.model.hdf5\n",
      "Epoch 19/35\n",
      "18/18 - 1s - loss: 0.4072 - accuracy: 0.9222 - val_loss: 0.4657 - val_accuracy: 0.9000\n",
      "\n",
      "Epoch 00019: val_loss improved from 0.54154 to 0.46567, saving model to signlanguage.model.hdf5\n",
      "Epoch 20/35\n",
      "18/18 - 1s - loss: 0.3337 - accuracy: 0.9477 - val_loss: 0.4398 - val_accuracy: 0.9333\n",
      "\n",
      "Epoch 00020: val_loss improved from 0.46567 to 0.43981, saving model to signlanguage.model.hdf5\n",
      "Epoch 21/35\n",
      "18/18 - 1s - loss: 0.2691 - accuracy: 0.9611 - val_loss: 0.3994 - val_accuracy: 0.9667\n",
      "\n",
      "Epoch 00021: val_loss improved from 0.43981 to 0.39943, saving model to signlanguage.model.hdf5\n",
      "Epoch 22/35\n",
      "18/18 - 1s - loss: 0.3324 - accuracy: 0.9389 - val_loss: 0.3498 - val_accuracy: 1.0000\n",
      "\n",
      "Epoch 00022: val_loss improved from 0.39943 to 0.34985, saving model to signlanguage.model.hdf5\n",
      "Epoch 23/35\n",
      "18/18 - 1s - loss: 0.2561 - accuracy: 0.9722 - val_loss: 0.3848 - val_accuracy: 0.9333\n",
      "\n",
      "Epoch 00023: val_loss did not improve from 0.34985\n",
      "Epoch 24/35\n",
      "18/18 - 1s - loss: 0.2683 - accuracy: 0.9500 - val_loss: 0.3170 - val_accuracy: 0.9667\n",
      "\n",
      "Epoch 00024: val_loss improved from 0.34985 to 0.31701, saving model to signlanguage.model.hdf5\n",
      "Epoch 25/35\n",
      "18/18 - 1s - loss: 0.2600 - accuracy: 0.9889 - val_loss: 0.3040 - val_accuracy: 0.9667\n",
      "\n",
      "Epoch 00025: val_loss improved from 0.31701 to 0.30398, saving model to signlanguage.model.hdf5\n",
      "Epoch 26/35\n",
      "18/18 - 1s - loss: 0.2263 - accuracy: 0.9722 - val_loss: 0.2969 - val_accuracy: 1.0000\n",
      "\n",
      "Epoch 00026: val_loss improved from 0.30398 to 0.29694, saving model to signlanguage.model.hdf5\n",
      "Epoch 27/35\n",
      "18/18 - 1s - loss: 0.1720 - accuracy: 0.9611 - val_loss: 0.2961 - val_accuracy: 0.9333\n",
      "\n",
      "Epoch 00027: val_loss improved from 0.29694 to 0.29608, saving model to signlanguage.model.hdf5\n",
      "Epoch 28/35\n",
      "18/18 - 1s - loss: 0.2324 - accuracy: 0.9778 - val_loss: 0.2608 - val_accuracy: 0.9667\n",
      "\n",
      "Epoch 00028: val_loss improved from 0.29608 to 0.26076, saving model to signlanguage.model.hdf5\n",
      "Epoch 29/35\n",
      "18/18 - 1s - loss: 0.1878 - accuracy: 0.9826 - val_loss: 0.2194 - val_accuracy: 0.9667\n",
      "\n",
      "Epoch 00029: val_loss improved from 0.26076 to 0.21940, saving model to signlanguage.model.hdf5\n",
      "Epoch 30/35\n",
      "18/18 - 1s - loss: 0.1341 - accuracy: 0.9944 - val_loss: 0.2152 - val_accuracy: 1.0000\n",
      "\n",
      "Epoch 00030: val_loss improved from 0.21940 to 0.21520, saving model to signlanguage.model.hdf5\n",
      "Epoch 31/35\n",
      "18/18 - 1s - loss: 0.1459 - accuracy: 0.9833 - val_loss: 0.2212 - val_accuracy: 0.9667\n",
      "\n",
      "Epoch 00031: val_loss did not improve from 0.21520\n",
      "Epoch 32/35\n",
      "18/18 - 1s - loss: 0.1934 - accuracy: 0.9667 - val_loss: 0.1876 - val_accuracy: 1.0000\n",
      "\n",
      "Epoch 00032: val_loss improved from 0.21520 to 0.18762, saving model to signlanguage.model.hdf5\n",
      "Epoch 33/35\n",
      "18/18 - 1s - loss: 0.1464 - accuracy: 0.9778 - val_loss: 0.2504 - val_accuracy: 0.9667\n",
      "\n",
      "Epoch 00033: val_loss did not improve from 0.18762\n",
      "Epoch 34/35\n",
      "18/18 - 1s - loss: 0.1538 - accuracy: 0.9722 - val_loss: 0.1624 - val_accuracy: 1.0000\n",
      "\n",
      "Epoch 00034: val_loss improved from 0.18762 to 0.16243, saving model to signlanguage.model.hdf5\n",
      "Epoch 35/35\n",
      "18/18 - 1s - loss: 0.1114 - accuracy: 0.9889 - val_loss: 0.1737 - val_accuracy: 1.0000\n",
      "\n",
      "Epoch 00035: val_loss did not improve from 0.16243\n"
     ]
    }
   ],
   "source": [
    "history=new_model.fit(x_train,y_train,batch_size=10,steps_per_epoch=18,\n",
    "                      epochs=35,validation_data=(x_valid, y_valid),validation_steps=3,verbose=2,callbacks=[checkpointer])"
   ]
  },
  {
   "cell_type": "code",
   "execution_count": 20,
   "id": "cca676af",
   "metadata": {
    "execution": {
     "iopub.execute_input": "2022-11-13T10:21:28.346414Z",
     "iopub.status.busy": "2022-11-13T10:21:28.344811Z",
     "iopub.status.idle": "2022-11-13T10:21:28.418802Z",
     "shell.execute_reply": "2022-11-13T10:21:28.417824Z"
    },
    "papermill": {
     "duration": 0.090164,
     "end_time": "2022-11-13T10:21:28.421207",
     "exception": false,
     "start_time": "2022-11-13T10:21:28.331043",
     "status": "completed"
    },
    "tags": []
   },
   "outputs": [],
   "source": [
    "new_model.load_weights('signlanguage.model.hdf5')"
   ]
  },
  {
   "cell_type": "code",
   "execution_count": 21,
   "id": "e5e9ecd8",
   "metadata": {
    "execution": {
     "iopub.execute_input": "2022-11-13T10:21:28.450033Z",
     "iopub.status.busy": "2022-11-13T10:21:28.448511Z",
     "iopub.status.idle": "2022-11-13T10:21:28.667212Z",
     "shell.execute_reply": "2022-11-13T10:21:28.666272Z"
    },
    "papermill": {
     "duration": 0.234902,
     "end_time": "2022-11-13T10:21:28.669517",
     "exception": false,
     "start_time": "2022-11-13T10:21:28.434615",
     "status": "completed"
    },
    "tags": []
   },
   "outputs": [
    {
     "name": "stderr",
     "output_type": "stream",
     "text": [
      "/opt/conda/lib/python3.7/site-packages/IPython/core/pylabtools.py:151: UserWarning: Glyph 54984 (\\N{HANGUL SYLLABLE HUN}) missing from current font.\n",
      "  fig.canvas.print_figure(bytes_io, **kw)\n",
      "/opt/conda/lib/python3.7/site-packages/IPython/core/pylabtools.py:151: UserWarning: Glyph 47144 (\\N{HANGUL SYLLABLE RYEON}) missing from current font.\n",
      "  fig.canvas.print_figure(bytes_io, **kw)\n",
      "/opt/conda/lib/python3.7/site-packages/IPython/core/pylabtools.py:151: UserWarning: Glyph 45936 (\\N{HANGUL SYLLABLE DE}) missing from current font.\n",
      "  fig.canvas.print_figure(bytes_io, **kw)\n",
      "/opt/conda/lib/python3.7/site-packages/IPython/core/pylabtools.py:151: UserWarning: Glyph 51060 (\\N{HANGUL SYLLABLE I}) missing from current font.\n",
      "  fig.canvas.print_figure(bytes_io, **kw)\n",
      "/opt/conda/lib/python3.7/site-packages/IPython/core/pylabtools.py:151: UserWarning: Glyph 53552 (\\N{HANGUL SYLLABLE TEO}) missing from current font.\n",
      "  fig.canvas.print_figure(bytes_io, **kw)\n",
      "/opt/conda/lib/python3.7/site-packages/IPython/core/pylabtools.py:151: UserWarning: Glyph 53580 (\\N{HANGUL SYLLABLE TE}) missing from current font.\n",
      "  fig.canvas.print_figure(bytes_io, **kw)\n",
      "/opt/conda/lib/python3.7/site-packages/IPython/core/pylabtools.py:151: UserWarning: Glyph 49828 (\\N{HANGUL SYLLABLE SEU}) missing from current font.\n",
      "  fig.canvas.print_figure(bytes_io, **kw)\n",
      "/opt/conda/lib/python3.7/site-packages/IPython/core/pylabtools.py:151: UserWarning: Glyph 53944 (\\N{HANGUL SYLLABLE TEU}) missing from current font.\n",
      "  fig.canvas.print_figure(bytes_io, **kw)\n"
     ]
    },
    {
     "data": {
      "image/png": "[encoded data removed]",
      "text/plain": [
       "<Figure size 432x288 with 1 Axes>"
      ]
     },
     "metadata": {
      "needs_background": "light"
     },
     "output_type": "display_data"
    }
   ],
   "source": [
    "plt.plot(history.history['accuracy'], label='훈련 데이터')\n",
    "plt.plot(history.history['val_accuracy'], label='테스트 데이터')\n",
    "plt.legend()\n",
    "plt.show()"
   ]
  },
  {
   "cell_type": "code",
   "execution_count": 22,
   "id": "063864f4",
   "metadata": {
    "execution": {
     "iopub.execute_input": "2022-11-13T10:21:28.697638Z",
     "iopub.status.busy": "2022-11-13T10:21:28.696732Z",
     "iopub.status.idle": "2022-11-13T10:21:33.975714Z",
     "shell.execute_reply": "2022-11-13T10:21:33.974680Z"
    },
    "papermill": {
     "duration": 5.295648,
     "end_time": "2022-11-13T10:21:33.978470",
     "exception": false,
     "start_time": "2022-11-13T10:21:28.682822",
     "status": "completed"
    },
    "tags": []
   },
   "outputs": [],
   "source": [
    "prediction = new_model.predict( x_test,\n",
    "                            batch_size=None,\n",
    "                            verbose=\"auto\",\n",
    "                            steps=None,\n",
    "                            callbacks=None,\n",
    "                            max_queue_size=10,\n",
    "                            workers=1,\n",
    "                            use_multiprocessing=False,\n",
    "                        )"
   ]
  },
  {
   "cell_type": "code",
   "execution_count": 23,
   "id": "54ee19b5",
   "metadata": {
    "execution": {
     "iopub.execute_input": "2022-11-13T10:21:34.006393Z",
     "iopub.status.busy": "2022-11-13T10:21:34.006077Z",
     "iopub.status.idle": "2022-11-13T10:21:34.012015Z",
     "shell.execute_reply": "2022-11-13T10:21:34.011128Z"
    },
    "papermill": {
     "duration": 0.02202,
     "end_time": "2022-11-13T10:21:34.013954",
     "exception": false,
     "start_time": "2022-11-13T10:21:33.991934",
     "status": "completed"
    },
    "tags": []
   },
   "outputs": [
    {
     "data": {
      "text/plain": [
       "(50, 10)"
      ]
     },
     "execution_count": 23,
     "metadata": {},
     "output_type": "execute_result"
    }
   ],
   "source": [
    "prediction.shape"
   ]
  },
  {
   "cell_type": "code",
   "execution_count": 24,
   "id": "af94dd06",
   "metadata": {
    "execution": {
     "iopub.execute_input": "2022-11-13T10:21:34.041869Z",
     "iopub.status.busy": "2022-11-13T10:21:34.040968Z",
     "iopub.status.idle": "2022-11-13T10:21:34.049940Z",
     "shell.execute_reply": "2022-11-13T10:21:34.048941Z"
    },
    "papermill": {
     "duration": 0.02526,
     "end_time": "2022-11-13T10:21:34.052304",
     "exception": false,
     "start_time": "2022-11-13T10:21:34.027044",
     "status": "completed"
    },
    "tags": []
   },
   "outputs": [
    {
     "data": {
      "text/html": [
       "<div>\n",
       "<style scoped>\n",
       "    .dataframe tbody tr th:only-of-type {\n",
       "        vertical-align: middle;\n",
       "    }\n",
       "\n",
       "    .dataframe tbody tr th {\n",
       "        vertical-align: top;\n",
       "    }\n",
       "\n",
       "    .dataframe thead th {\n",
       "        text-align: right;\n",
       "    }\n",
       "</style>\n",
       "<table border=\"1\" class=\"dataframe\">\n",
       "  <thead>\n",
       "    <tr style=\"text-align: right;\">\n",
       "      <th></th>\n",
       "      <th>id</th>\n",
       "      <th>label</th>\n",
       "    </tr>\n",
       "  </thead>\n",
       "  <tbody>\n",
       "    <tr>\n",
       "      <th>0</th>\n",
       "      <td>0</td>\n",
       "      <td>0</td>\n",
       "    </tr>\n",
       "    <tr>\n",
       "      <th>1</th>\n",
       "      <td>1</td>\n",
       "      <td>0</td>\n",
       "    </tr>\n",
       "    <tr>\n",
       "      <th>2</th>\n",
       "      <td>2</td>\n",
       "      <td>0</td>\n",
       "    </tr>\n",
       "    <tr>\n",
       "      <th>3</th>\n",
       "      <td>3</td>\n",
       "      <td>0</td>\n",
       "    </tr>\n",
       "    <tr>\n",
       "      <th>4</th>\n",
       "      <td>4</td>\n",
       "      <td>0</td>\n",
       "    </tr>\n",
       "  </tbody>\n",
       "</table>\n",
       "</div>"
      ],
      "text/plain": [
       "   id  label\n",
       "0   0      0\n",
       "1   1      0\n",
       "2   2      0\n",
       "3   3      0\n",
       "4   4      0"
      ]
     },
     "execution_count": 24,
     "metadata": {},
     "output_type": "execute_result"
    }
   ],
   "source": [
    "submit.head()"
   ]
  },
  {
   "cell_type": "code",
   "execution_count": 25,
   "id": "dd6d4757",
   "metadata": {
    "execution": {
     "iopub.execute_input": "2022-11-13T10:21:34.079709Z",
     "iopub.status.busy": "2022-11-13T10:21:34.079439Z",
     "iopub.status.idle": "2022-11-13T10:21:34.084294Z",
     "shell.execute_reply": "2022-11-13T10:21:34.083320Z"
    },
    "papermill": {
     "duration": 0.020886,
     "end_time": "2022-11-13T10:21:34.086304",
     "exception": false,
     "start_time": "2022-11-13T10:21:34.065418",
     "status": "completed"
    },
    "tags": []
   },
   "outputs": [],
   "source": [
    "submit['label']=np.argmax(prediction,axis=1)"
   ]
  },
  {
   "cell_type": "code",
   "execution_count": 26,
   "id": "32de00cf",
   "metadata": {
    "execution": {
     "iopub.execute_input": "2022-11-13T10:21:34.114434Z",
     "iopub.status.busy": "2022-11-13T10:21:34.113635Z",
     "iopub.status.idle": "2022-11-13T10:21:34.121840Z",
     "shell.execute_reply": "2022-11-13T10:21:34.120902Z"
    },
    "papermill": {
     "duration": 0.024218,
     "end_time": "2022-11-13T10:21:34.123809",
     "exception": false,
     "start_time": "2022-11-13T10:21:34.099591",
     "status": "completed"
    },
    "tags": []
   },
   "outputs": [
    {
     "data": {
      "text/html": [
       "<div>\n",
       "<style scoped>\n",
       "    .dataframe tbody tr th:only-of-type {\n",
       "        vertical-align: middle;\n",
       "    }\n",
       "\n",
       "    .dataframe tbody tr th {\n",
       "        vertical-align: top;\n",
       "    }\n",
       "\n",
       "    .dataframe thead th {\n",
       "        text-align: right;\n",
       "    }\n",
       "</style>\n",
       "<table border=\"1\" class=\"dataframe\">\n",
       "  <thead>\n",
       "    <tr style=\"text-align: right;\">\n",
       "      <th></th>\n",
       "      <th>id</th>\n",
       "      <th>label</th>\n",
       "    </tr>\n",
       "  </thead>\n",
       "  <tbody>\n",
       "    <tr>\n",
       "      <th>0</th>\n",
       "      <td>0</td>\n",
       "      <td>5</td>\n",
       "    </tr>\n",
       "    <tr>\n",
       "      <th>1</th>\n",
       "      <td>1</td>\n",
       "      <td>5</td>\n",
       "    </tr>\n",
       "    <tr>\n",
       "      <th>2</th>\n",
       "      <td>2</td>\n",
       "      <td>0</td>\n",
       "    </tr>\n",
       "    <tr>\n",
       "      <th>3</th>\n",
       "      <td>3</td>\n",
       "      <td>0</td>\n",
       "    </tr>\n",
       "    <tr>\n",
       "      <th>4</th>\n",
       "      <td>4</td>\n",
       "      <td>2</td>\n",
       "    </tr>\n",
       "  </tbody>\n",
       "</table>\n",
       "</div>"
      ],
      "text/plain": [
       "   id  label\n",
       "0   0      5\n",
       "1   1      5\n",
       "2   2      0\n",
       "3   3      0\n",
       "4   4      2"
      ]
     },
     "execution_count": 26,
     "metadata": {},
     "output_type": "execute_result"
    }
   ],
   "source": [
    "submit.head()"
   ]
  },
  {
   "cell_type": "code",
   "execution_count": 27,
   "id": "1bb41f50",
   "metadata": {
    "execution": {
     "iopub.execute_input": "2022-11-13T10:21:34.152020Z",
     "iopub.status.busy": "2022-11-13T10:21:34.151396Z",
     "iopub.status.idle": "2022-11-13T10:21:34.158179Z",
     "shell.execute_reply": "2022-11-13T10:21:34.157392Z"
    },
    "papermill": {
     "duration": 0.023157,
     "end_time": "2022-11-13T10:21:34.160211",
     "exception": false,
     "start_time": "2022-11-13T10:21:34.137054",
     "status": "completed"
    },
    "tags": []
   },
   "outputs": [],
   "source": [
    "submit.to_csv('submission.csv',index=False)"
   ]
  }
 ],
 "metadata": {
  "kernelspec": {
   "display_name": "Python 3",
   "language": "python",
   "name": "python3"
  },
  "language_info": {
   "codemirror_mode": {
    "name": "ipython",
    "version": 3
   },
   "file_extension": ".py",
   "mimetype": "text/x-python",
   "name": "python",
   "nbconvert_exporter": "python",
   "pygments_lexer": "ipython3",
   "version": "3.7.12"
  },
  "papermill": {
   "default_parameters": {},
   "duration": 99.335759,
   "end_time": "2022-11-13T10:21:37.606729",
   "environment_variables": {},
   "exception": null,
   "input_path": "__notebook__.ipynb",
   "output_path": "__notebook__.ipynb",
   "parameters": {},
   "start_time": "2022-11-13T10:19:58.270970",
   "version": "2.3.4"
  }
 },
 "nbformat": 4,
 "nbformat_minor": 5
}
