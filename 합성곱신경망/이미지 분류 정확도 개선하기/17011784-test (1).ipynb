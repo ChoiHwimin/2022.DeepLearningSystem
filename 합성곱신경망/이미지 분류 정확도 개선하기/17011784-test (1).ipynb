{
 "cells": [
  {
   "cell_type": "code",
   "execution_count": 1,
   "id": "29f892ec",
   "metadata": {
    "_cell_guid": "b1076dfc-b9ad-4769-8c92-a6c4dae69d19",
    "_uuid": "8f2839f25d086af736a60e9eeb907d3b93b6e0e5",
    "execution": {
     "iopub.execute_input": "2022-10-17T04:04:33.805236Z",
     "iopub.status.busy": "2022-10-17T04:04:33.802188Z",
     "iopub.status.idle": "2022-10-17T04:04:33.826641Z",
     "shell.execute_reply": "2022-10-17T04:04:33.824780Z"
    },
    "papermill": {
     "duration": 0.042215,
     "end_time": "2022-10-17T04:04:33.830587",
     "exception": false,
     "start_time": "2022-10-17T04:04:33.788372",
     "status": "completed"
    },
    "tags": []
   },
   "outputs": [
    {
     "name": "stdout",
     "output_type": "stream",
     "text": [
      "/kaggle/input/2022-dl-w4-p1/train.csv\n",
      "/kaggle/input/2022-dl-w4-p1/test.csv\n",
      "/kaggle/input/2022-dl-w4-p1/sample_submit.csv\n"
     ]
    }
   ],
   "source": [
    "# This Python 3 environment comes with many helpful analytics libraries installed\n",
    "# It is defined by the kaggle/python Docker image: https://github.com/kaggle/docker-python\n",
    "# For example, here's several helpful packages to load\n",
    "\n",
    "import numpy as np # linear algebra\n",
    "import pandas as pd # data processing, CSV file I/O (e.g. pd.read_csv)\n",
    "\n",
    "# Input data files are available in the read-only \"../input/\" directory\n",
    "# For example, running this (by clicking run or pressing Shift+Enter) will list all files under the input directory\n",
    "\n",
    "import os\n",
    "for dirname, _, filenames in os.walk('/kaggle/input'):\n",
    "    for filename in filenames:\n",
    "        print(os.path.join(dirname, filename))\n",
    "\n",
    "# You can write up to 20GB to the current directory (/kaggle/working/) that gets preserved as output when you create a version using \"Save & Run All\" \n",
    "# You can also write temporary files to /kaggle/temp/, but they won't be saved outside of the current session"
   ]
  },
  {
   "cell_type": "code",
   "execution_count": 2,
   "id": "96227b93",
   "metadata": {
    "execution": {
     "iopub.execute_input": "2022-10-17T04:04:33.853395Z",
     "iopub.status.busy": "2022-10-17T04:04:33.852941Z",
     "iopub.status.idle": "2022-10-17T04:04:38.912733Z",
     "shell.execute_reply": "2022-10-17T04:04:38.911757Z"
    },
    "papermill": {
     "duration": 5.074175,
     "end_time": "2022-10-17T04:04:38.915443",
     "exception": false,
     "start_time": "2022-10-17T04:04:33.841268",
     "status": "completed"
    },
    "tags": []
   },
   "outputs": [],
   "source": [
    "import keras\n",
    "from keras.preprocessing.image import ImageDataGenerator\n",
    "from keras.models import Sequential\n",
    "from keras.utils import np_utils\n",
    "from keras.layers import Dense,Activation, Flatten, Dropout, BatchNormalization, Conv2D, MaxPooling2D\n",
    "from keras.callbacks import ModelCheckpoint\n",
    "from keras import regularizers, optimizers\n",
    "\n",
    "from matplotlib import pyplot"
   ]
  },
  {
   "cell_type": "code",
   "execution_count": 3,
   "id": "6c2996de",
   "metadata": {
    "execution": {
     "iopub.execute_input": "2022-10-17T04:04:38.929846Z",
     "iopub.status.busy": "2022-10-17T04:04:38.929329Z",
     "iopub.status.idle": "2022-10-17T04:05:06.074948Z",
     "shell.execute_reply": "2022-10-17T04:05:06.074012Z"
    },
    "papermill": {
     "duration": 27.155544,
     "end_time": "2022-10-17T04:05:06.077324",
     "exception": false,
     "start_time": "2022-10-17T04:04:38.921780",
     "status": "completed"
    },
    "tags": []
   },
   "outputs": [],
   "source": [
    "train=pd.read_csv('/kaggle/input/2022-dl-w4-p1/train.csv')\n",
    "test=pd.read_csv('/kaggle/input/2022-dl-w4-p1/test.csv')\n",
    "submit=pd.read_csv('/kaggle/input/2022-dl-w4-p1/sample_submit.csv')"
   ]
  },
  {
   "cell_type": "code",
   "execution_count": 4,
   "id": "a73fb6a5",
   "metadata": {
    "execution": {
     "iopub.execute_input": "2022-10-17T04:05:06.090580Z",
     "iopub.status.busy": "2022-10-17T04:05:06.090289Z",
     "iopub.status.idle": "2022-10-17T04:05:06.115416Z",
     "shell.execute_reply": "2022-10-17T04:05:06.114570Z"
    },
    "papermill": {
     "duration": 0.034037,
     "end_time": "2022-10-17T04:05:06.117436",
     "exception": false,
     "start_time": "2022-10-17T04:05:06.083399",
     "status": "completed"
    },
    "tags": []
   },
   "outputs": [
    {
     "data": {
      "text/html": [
       "<div>\n",
       "<style scoped>\n",
       "    .dataframe tbody tr th:only-of-type {\n",
       "        vertical-align: middle;\n",
       "    }\n",
       "\n",
       "    .dataframe tbody tr th {\n",
       "        vertical-align: top;\n",
       "    }\n",
       "\n",
       "    .dataframe thead th {\n",
       "        text-align: right;\n",
       "    }\n",
       "</style>\n",
       "<table border=\"1\" class=\"dataframe\">\n",
       "  <thead>\n",
       "    <tr style=\"text-align: right;\">\n",
       "      <th></th>\n",
       "      <th>ID</th>\n",
       "      <th>1</th>\n",
       "      <th>2</th>\n",
       "      <th>3</th>\n",
       "      <th>4</th>\n",
       "      <th>5</th>\n",
       "      <th>6</th>\n",
       "      <th>7</th>\n",
       "      <th>8</th>\n",
       "      <th>9</th>\n",
       "      <th>...</th>\n",
       "      <th>3064</th>\n",
       "      <th>3065</th>\n",
       "      <th>3066</th>\n",
       "      <th>3067</th>\n",
       "      <th>3068</th>\n",
       "      <th>3069</th>\n",
       "      <th>3070</th>\n",
       "      <th>3071</th>\n",
       "      <th>3072</th>\n",
       "      <th>label</th>\n",
       "    </tr>\n",
       "  </thead>\n",
       "  <tbody>\n",
       "    <tr>\n",
       "      <th>0</th>\n",
       "      <td>0</td>\n",
       "      <td>59</td>\n",
       "      <td>62</td>\n",
       "      <td>63</td>\n",
       "      <td>43</td>\n",
       "      <td>46</td>\n",
       "      <td>45</td>\n",
       "      <td>50</td>\n",
       "      <td>48</td>\n",
       "      <td>43</td>\n",
       "      <td>...</td>\n",
       "      <td>216</td>\n",
       "      <td>184</td>\n",
       "      <td>140</td>\n",
       "      <td>151</td>\n",
       "      <td>118</td>\n",
       "      <td>84</td>\n",
       "      <td>123</td>\n",
       "      <td>92</td>\n",
       "      <td>72</td>\n",
       "      <td>6</td>\n",
       "    </tr>\n",
       "    <tr>\n",
       "      <th>1</th>\n",
       "      <td>1</td>\n",
       "      <td>154</td>\n",
       "      <td>177</td>\n",
       "      <td>187</td>\n",
       "      <td>126</td>\n",
       "      <td>137</td>\n",
       "      <td>136</td>\n",
       "      <td>105</td>\n",
       "      <td>104</td>\n",
       "      <td>95</td>\n",
       "      <td>...</td>\n",
       "      <td>143</td>\n",
       "      <td>133</td>\n",
       "      <td>139</td>\n",
       "      <td>143</td>\n",
       "      <td>134</td>\n",
       "      <td>142</td>\n",
       "      <td>143</td>\n",
       "      <td>133</td>\n",
       "      <td>144</td>\n",
       "      <td>9</td>\n",
       "    </tr>\n",
       "    <tr>\n",
       "      <th>2</th>\n",
       "      <td>2</td>\n",
       "      <td>255</td>\n",
       "      <td>255</td>\n",
       "      <td>255</td>\n",
       "      <td>253</td>\n",
       "      <td>253</td>\n",
       "      <td>253</td>\n",
       "      <td>253</td>\n",
       "      <td>253</td>\n",
       "      <td>253</td>\n",
       "      <td>...</td>\n",
       "      <td>78</td>\n",
       "      <td>85</td>\n",
       "      <td>83</td>\n",
       "      <td>79</td>\n",
       "      <td>85</td>\n",
       "      <td>83</td>\n",
       "      <td>80</td>\n",
       "      <td>86</td>\n",
       "      <td>84</td>\n",
       "      <td>9</td>\n",
       "    </tr>\n",
       "    <tr>\n",
       "      <th>3</th>\n",
       "      <td>3</td>\n",
       "      <td>28</td>\n",
       "      <td>25</td>\n",
       "      <td>10</td>\n",
       "      <td>37</td>\n",
       "      <td>34</td>\n",
       "      <td>19</td>\n",
       "      <td>38</td>\n",
       "      <td>35</td>\n",
       "      <td>20</td>\n",
       "      <td>...</td>\n",
       "      <td>54</td>\n",
       "      <td>47</td>\n",
       "      <td>28</td>\n",
       "      <td>63</td>\n",
       "      <td>56</td>\n",
       "      <td>37</td>\n",
       "      <td>72</td>\n",
       "      <td>65</td>\n",
       "      <td>46</td>\n",
       "      <td>4</td>\n",
       "    </tr>\n",
       "    <tr>\n",
       "      <th>4</th>\n",
       "      <td>4</td>\n",
       "      <td>170</td>\n",
       "      <td>180</td>\n",
       "      <td>198</td>\n",
       "      <td>168</td>\n",
       "      <td>178</td>\n",
       "      <td>196</td>\n",
       "      <td>177</td>\n",
       "      <td>185</td>\n",
       "      <td>203</td>\n",
       "      <td>...</td>\n",
       "      <td>75</td>\n",
       "      <td>79</td>\n",
       "      <td>82</td>\n",
       "      <td>71</td>\n",
       "      <td>75</td>\n",
       "      <td>78</td>\n",
       "      <td>73</td>\n",
       "      <td>77</td>\n",
       "      <td>80</td>\n",
       "      <td>1</td>\n",
       "    </tr>\n",
       "  </tbody>\n",
       "</table>\n",
       "<p>5 rows × 3074 columns</p>\n",
       "</div>"
      ],
      "text/plain": [
       "   ID    1    2    3    4    5    6    7    8    9  ...  3064  3065  3066  \\\n",
       "0   0   59   62   63   43   46   45   50   48   43  ...   216   184   140   \n",
       "1   1  154  177  187  126  137  136  105  104   95  ...   143   133   139   \n",
       "2   2  255  255  255  253  253  253  253  253  253  ...    78    85    83   \n",
       "3   3   28   25   10   37   34   19   38   35   20  ...    54    47    28   \n",
       "4   4  170  180  198  168  178  196  177  185  203  ...    75    79    82   \n",
       "\n",
       "   3067  3068  3069  3070  3071  3072  label  \n",
       "0   151   118    84   123    92    72      6  \n",
       "1   143   134   142   143   133   144      9  \n",
       "2    79    85    83    80    86    84      9  \n",
       "3    63    56    37    72    65    46      4  \n",
       "4    71    75    78    73    77    80      1  \n",
       "\n",
       "[5 rows x 3074 columns]"
      ]
     },
     "execution_count": 4,
     "metadata": {},
     "output_type": "execute_result"
    }
   ],
   "source": [
    "train.head()"
   ]
  },
  {
   "cell_type": "code",
   "execution_count": 5,
   "id": "f6fe3dd7",
   "metadata": {
    "execution": {
     "iopub.execute_input": "2022-10-17T04:05:06.132465Z",
     "iopub.status.busy": "2022-10-17T04:05:06.131016Z",
     "iopub.status.idle": "2022-10-17T04:05:06.146563Z",
     "shell.execute_reply": "2022-10-17T04:05:06.145574Z"
    },
    "papermill": {
     "duration": 0.024874,
     "end_time": "2022-10-17T04:05:06.148610",
     "exception": false,
     "start_time": "2022-10-17T04:05:06.123736",
     "status": "completed"
    },
    "tags": []
   },
   "outputs": [
    {
     "data": {
      "text/html": [
       "<div>\n",
       "<style scoped>\n",
       "    .dataframe tbody tr th:only-of-type {\n",
       "        vertical-align: middle;\n",
       "    }\n",
       "\n",
       "    .dataframe tbody tr th {\n",
       "        vertical-align: top;\n",
       "    }\n",
       "\n",
       "    .dataframe thead th {\n",
       "        text-align: right;\n",
       "    }\n",
       "</style>\n",
       "<table border=\"1\" class=\"dataframe\">\n",
       "  <thead>\n",
       "    <tr style=\"text-align: right;\">\n",
       "      <th></th>\n",
       "      <th>id</th>\n",
       "      <th>1</th>\n",
       "      <th>2</th>\n",
       "      <th>3</th>\n",
       "      <th>4</th>\n",
       "      <th>5</th>\n",
       "      <th>6</th>\n",
       "      <th>7</th>\n",
       "      <th>8</th>\n",
       "      <th>9</th>\n",
       "      <th>...</th>\n",
       "      <th>3063</th>\n",
       "      <th>3064</th>\n",
       "      <th>3065</th>\n",
       "      <th>3066</th>\n",
       "      <th>3067</th>\n",
       "      <th>3068</th>\n",
       "      <th>3069</th>\n",
       "      <th>3070</th>\n",
       "      <th>3071</th>\n",
       "      <th>3072</th>\n",
       "    </tr>\n",
       "  </thead>\n",
       "  <tbody>\n",
       "    <tr>\n",
       "      <th>0</th>\n",
       "      <td>0</td>\n",
       "      <td>158</td>\n",
       "      <td>112</td>\n",
       "      <td>49</td>\n",
       "      <td>159</td>\n",
       "      <td>111</td>\n",
       "      <td>47</td>\n",
       "      <td>165</td>\n",
       "      <td>116</td>\n",
       "      <td>51</td>\n",
       "      <td>...</td>\n",
       "      <td>145</td>\n",
       "      <td>24</td>\n",
       "      <td>77</td>\n",
       "      <td>124</td>\n",
       "      <td>34</td>\n",
       "      <td>84</td>\n",
       "      <td>129</td>\n",
       "      <td>21</td>\n",
       "      <td>67</td>\n",
       "      <td>110</td>\n",
       "    </tr>\n",
       "    <tr>\n",
       "      <th>1</th>\n",
       "      <td>1</td>\n",
       "      <td>235</td>\n",
       "      <td>235</td>\n",
       "      <td>235</td>\n",
       "      <td>231</td>\n",
       "      <td>231</td>\n",
       "      <td>231</td>\n",
       "      <td>232</td>\n",
       "      <td>232</td>\n",
       "      <td>232</td>\n",
       "      <td>...</td>\n",
       "      <td>163</td>\n",
       "      <td>168</td>\n",
       "      <td>183</td>\n",
       "      <td>178</td>\n",
       "      <td>180</td>\n",
       "      <td>195</td>\n",
       "      <td>191</td>\n",
       "      <td>186</td>\n",
       "      <td>200</td>\n",
       "      <td>199</td>\n",
       "    </tr>\n",
       "    <tr>\n",
       "      <th>2</th>\n",
       "      <td>2</td>\n",
       "      <td>158</td>\n",
       "      <td>190</td>\n",
       "      <td>222</td>\n",
       "      <td>158</td>\n",
       "      <td>187</td>\n",
       "      <td>218</td>\n",
       "      <td>139</td>\n",
       "      <td>166</td>\n",
       "      <td>194</td>\n",
       "      <td>...</td>\n",
       "      <td>37</td>\n",
       "      <td>5</td>\n",
       "      <td>6</td>\n",
       "      <td>8</td>\n",
       "      <td>4</td>\n",
       "      <td>5</td>\n",
       "      <td>3</td>\n",
       "      <td>7</td>\n",
       "      <td>8</td>\n",
       "      <td>7</td>\n",
       "    </tr>\n",
       "    <tr>\n",
       "      <th>3</th>\n",
       "      <td>3</td>\n",
       "      <td>155</td>\n",
       "      <td>156</td>\n",
       "      <td>149</td>\n",
       "      <td>167</td>\n",
       "      <td>176</td>\n",
       "      <td>187</td>\n",
       "      <td>176</td>\n",
       "      <td>179</td>\n",
       "      <td>193</td>\n",
       "      <td>...</td>\n",
       "      <td>53</td>\n",
       "      <td>60</td>\n",
       "      <td>63</td>\n",
       "      <td>50</td>\n",
       "      <td>64</td>\n",
       "      <td>65</td>\n",
       "      <td>52</td>\n",
       "      <td>73</td>\n",
       "      <td>68</td>\n",
       "      <td>50</td>\n",
       "    </tr>\n",
       "    <tr>\n",
       "      <th>4</th>\n",
       "      <td>4</td>\n",
       "      <td>65</td>\n",
       "      <td>68</td>\n",
       "      <td>50</td>\n",
       "      <td>70</td>\n",
       "      <td>81</td>\n",
       "      <td>64</td>\n",
       "      <td>48</td>\n",
       "      <td>64</td>\n",
       "      <td>46</td>\n",
       "      <td>...</td>\n",
       "      <td>147</td>\n",
       "      <td>143</td>\n",
       "      <td>179</td>\n",
       "      <td>136</td>\n",
       "      <td>154</td>\n",
       "      <td>185</td>\n",
       "      <td>146</td>\n",
       "      <td>128</td>\n",
       "      <td>156</td>\n",
       "      <td>117</td>\n",
       "    </tr>\n",
       "  </tbody>\n",
       "</table>\n",
       "<p>5 rows × 3073 columns</p>\n",
       "</div>"
      ],
      "text/plain": [
       "   id    1    2    3    4    5    6    7    8    9  ...  3063  3064  3065  \\\n",
       "0   0  158  112   49  159  111   47  165  116   51  ...   145    24    77   \n",
       "1   1  235  235  235  231  231  231  232  232  232  ...   163   168   183   \n",
       "2   2  158  190  222  158  187  218  139  166  194  ...    37     5     6   \n",
       "3   3  155  156  149  167  176  187  176  179  193  ...    53    60    63   \n",
       "4   4   65   68   50   70   81   64   48   64   46  ...   147   143   179   \n",
       "\n",
       "   3066  3067  3068  3069  3070  3071  3072  \n",
       "0   124    34    84   129    21    67   110  \n",
       "1   178   180   195   191   186   200   199  \n",
       "2     8     4     5     3     7     8     7  \n",
       "3    50    64    65    52    73    68    50  \n",
       "4   136   154   185   146   128   156   117  \n",
       "\n",
       "[5 rows x 3073 columns]"
      ]
     },
     "execution_count": 5,
     "metadata": {},
     "output_type": "execute_result"
    }
   ],
   "source": [
    "test.head()"
   ]
  },
  {
   "cell_type": "code",
   "execution_count": 6,
   "id": "bf8ff931",
   "metadata": {
    "execution": {
     "iopub.execute_input": "2022-10-17T04:05:06.163693Z",
     "iopub.status.busy": "2022-10-17T04:05:06.163405Z",
     "iopub.status.idle": "2022-10-17T04:05:06.169094Z",
     "shell.execute_reply": "2022-10-17T04:05:06.168352Z"
    },
    "papermill": {
     "duration": 0.015045,
     "end_time": "2022-10-17T04:05:06.171327",
     "exception": false,
     "start_time": "2022-10-17T04:05:06.156282",
     "status": "completed"
    },
    "tags": []
   },
   "outputs": [
    {
     "data": {
      "text/plain": [
       "(50000, 3074)"
      ]
     },
     "execution_count": 6,
     "metadata": {},
     "output_type": "execute_result"
    }
   ],
   "source": [
    "train.shape\n",
    "# test.shape"
   ]
  },
  {
   "cell_type": "code",
   "execution_count": 7,
   "id": "a606e1f9",
   "metadata": {
    "execution": {
     "iopub.execute_input": "2022-10-17T04:05:06.185232Z",
     "iopub.status.busy": "2022-10-17T04:05:06.184973Z",
     "iopub.status.idle": "2022-10-17T04:05:06.595432Z",
     "shell.execute_reply": "2022-10-17T04:05:06.594116Z"
    },
    "papermill": {
     "duration": 0.420355,
     "end_time": "2022-10-17T04:05:06.597982",
     "exception": false,
     "start_time": "2022-10-17T04:05:06.177627",
     "status": "completed"
    },
    "tags": []
   },
   "outputs": [],
   "source": [
    "y_train=train.label\n",
    "x_train=train.drop(['ID','label'],axis=1)\n",
    "x_test=test.drop('id',axis=1)"
   ]
  },
  {
   "cell_type": "code",
   "execution_count": 8,
   "id": "6f2ae4fc",
   "metadata": {
    "execution": {
     "iopub.execute_input": "2022-10-17T04:05:06.615187Z",
     "iopub.status.busy": "2022-10-17T04:05:06.613520Z",
     "iopub.status.idle": "2022-10-17T04:05:06.629926Z",
     "shell.execute_reply": "2022-10-17T04:05:06.628912Z"
    },
    "papermill": {
     "duration": 0.026538,
     "end_time": "2022-10-17T04:05:06.632215",
     "exception": false,
     "start_time": "2022-10-17T04:05:06.605677",
     "status": "completed"
    },
    "tags": []
   },
   "outputs": [
    {
     "data": {
      "text/html": [
       "<div>\n",
       "<style scoped>\n",
       "    .dataframe tbody tr th:only-of-type {\n",
       "        vertical-align: middle;\n",
       "    }\n",
       "\n",
       "    .dataframe tbody tr th {\n",
       "        vertical-align: top;\n",
       "    }\n",
       "\n",
       "    .dataframe thead th {\n",
       "        text-align: right;\n",
       "    }\n",
       "</style>\n",
       "<table border=\"1\" class=\"dataframe\">\n",
       "  <thead>\n",
       "    <tr style=\"text-align: right;\">\n",
       "      <th></th>\n",
       "      <th>1</th>\n",
       "      <th>2</th>\n",
       "      <th>3</th>\n",
       "      <th>4</th>\n",
       "      <th>5</th>\n",
       "      <th>6</th>\n",
       "      <th>7</th>\n",
       "      <th>8</th>\n",
       "      <th>9</th>\n",
       "      <th>10</th>\n",
       "      <th>...</th>\n",
       "      <th>3063</th>\n",
       "      <th>3064</th>\n",
       "      <th>3065</th>\n",
       "      <th>3066</th>\n",
       "      <th>3067</th>\n",
       "      <th>3068</th>\n",
       "      <th>3069</th>\n",
       "      <th>3070</th>\n",
       "      <th>3071</th>\n",
       "      <th>3072</th>\n",
       "    </tr>\n",
       "  </thead>\n",
       "  <tbody>\n",
       "    <tr>\n",
       "      <th>0</th>\n",
       "      <td>158</td>\n",
       "      <td>112</td>\n",
       "      <td>49</td>\n",
       "      <td>159</td>\n",
       "      <td>111</td>\n",
       "      <td>47</td>\n",
       "      <td>165</td>\n",
       "      <td>116</td>\n",
       "      <td>51</td>\n",
       "      <td>166</td>\n",
       "      <td>...</td>\n",
       "      <td>145</td>\n",
       "      <td>24</td>\n",
       "      <td>77</td>\n",
       "      <td>124</td>\n",
       "      <td>34</td>\n",
       "      <td>84</td>\n",
       "      <td>129</td>\n",
       "      <td>21</td>\n",
       "      <td>67</td>\n",
       "      <td>110</td>\n",
       "    </tr>\n",
       "    <tr>\n",
       "      <th>1</th>\n",
       "      <td>235</td>\n",
       "      <td>235</td>\n",
       "      <td>235</td>\n",
       "      <td>231</td>\n",
       "      <td>231</td>\n",
       "      <td>231</td>\n",
       "      <td>232</td>\n",
       "      <td>232</td>\n",
       "      <td>232</td>\n",
       "      <td>232</td>\n",
       "      <td>...</td>\n",
       "      <td>163</td>\n",
       "      <td>168</td>\n",
       "      <td>183</td>\n",
       "      <td>178</td>\n",
       "      <td>180</td>\n",
       "      <td>195</td>\n",
       "      <td>191</td>\n",
       "      <td>186</td>\n",
       "      <td>200</td>\n",
       "      <td>199</td>\n",
       "    </tr>\n",
       "    <tr>\n",
       "      <th>2</th>\n",
       "      <td>158</td>\n",
       "      <td>190</td>\n",
       "      <td>222</td>\n",
       "      <td>158</td>\n",
       "      <td>187</td>\n",
       "      <td>218</td>\n",
       "      <td>139</td>\n",
       "      <td>166</td>\n",
       "      <td>194</td>\n",
       "      <td>132</td>\n",
       "      <td>...</td>\n",
       "      <td>37</td>\n",
       "      <td>5</td>\n",
       "      <td>6</td>\n",
       "      <td>8</td>\n",
       "      <td>4</td>\n",
       "      <td>5</td>\n",
       "      <td>3</td>\n",
       "      <td>7</td>\n",
       "      <td>8</td>\n",
       "      <td>7</td>\n",
       "    </tr>\n",
       "    <tr>\n",
       "      <th>3</th>\n",
       "      <td>155</td>\n",
       "      <td>156</td>\n",
       "      <td>149</td>\n",
       "      <td>167</td>\n",
       "      <td>176</td>\n",
       "      <td>187</td>\n",
       "      <td>176</td>\n",
       "      <td>179</td>\n",
       "      <td>193</td>\n",
       "      <td>190</td>\n",
       "      <td>...</td>\n",
       "      <td>53</td>\n",
       "      <td>60</td>\n",
       "      <td>63</td>\n",
       "      <td>50</td>\n",
       "      <td>64</td>\n",
       "      <td>65</td>\n",
       "      <td>52</td>\n",
       "      <td>73</td>\n",
       "      <td>68</td>\n",
       "      <td>50</td>\n",
       "    </tr>\n",
       "    <tr>\n",
       "      <th>4</th>\n",
       "      <td>65</td>\n",
       "      <td>68</td>\n",
       "      <td>50</td>\n",
       "      <td>70</td>\n",
       "      <td>81</td>\n",
       "      <td>64</td>\n",
       "      <td>48</td>\n",
       "      <td>64</td>\n",
       "      <td>46</td>\n",
       "      <td>30</td>\n",
       "      <td>...</td>\n",
       "      <td>147</td>\n",
       "      <td>143</td>\n",
       "      <td>179</td>\n",
       "      <td>136</td>\n",
       "      <td>154</td>\n",
       "      <td>185</td>\n",
       "      <td>146</td>\n",
       "      <td>128</td>\n",
       "      <td>156</td>\n",
       "      <td>117</td>\n",
       "    </tr>\n",
       "  </tbody>\n",
       "</table>\n",
       "<p>5 rows × 3072 columns</p>\n",
       "</div>"
      ],
      "text/plain": [
       "     1    2    3    4    5    6    7    8    9   10  ...  3063  3064  3065  \\\n",
       "0  158  112   49  159  111   47  165  116   51  166  ...   145    24    77   \n",
       "1  235  235  235  231  231  231  232  232  232  232  ...   163   168   183   \n",
       "2  158  190  222  158  187  218  139  166  194  132  ...    37     5     6   \n",
       "3  155  156  149  167  176  187  176  179  193  190  ...    53    60    63   \n",
       "4   65   68   50   70   81   64   48   64   46   30  ...   147   143   179   \n",
       "\n",
       "   3066  3067  3068  3069  3070  3071  3072  \n",
       "0   124    34    84   129    21    67   110  \n",
       "1   178   180   195   191   186   200   199  \n",
       "2     8     4     5     3     7     8     7  \n",
       "3    50    64    65    52    73    68    50  \n",
       "4   136   154   185   146   128   156   117  \n",
       "\n",
       "[5 rows x 3072 columns]"
      ]
     },
     "execution_count": 8,
     "metadata": {},
     "output_type": "execute_result"
    }
   ],
   "source": [
    "x_test.head()"
   ]
  },
  {
   "cell_type": "code",
   "execution_count": 9,
   "id": "644dbb6c",
   "metadata": {
    "execution": {
     "iopub.execute_input": "2022-10-17T04:05:06.646882Z",
     "iopub.status.busy": "2022-10-17T04:05:06.646594Z",
     "iopub.status.idle": "2022-10-17T04:05:06.651545Z",
     "shell.execute_reply": "2022-10-17T04:05:06.650544Z"
    },
    "papermill": {
     "duration": 0.01473,
     "end_time": "2022-10-17T04:05:06.653689",
     "exception": false,
     "start_time": "2022-10-17T04:05:06.638959",
     "status": "completed"
    },
    "tags": []
   },
   "outputs": [],
   "source": [
    "(x_train, x_valid) = x_train[10000:], x_train[:10000]\n",
    "(y_train, y_valid) = y_train[10000:], y_train[:10000]"
   ]
  },
  {
   "cell_type": "code",
   "execution_count": 10,
   "id": "f80ba7f9",
   "metadata": {
    "execution": {
     "iopub.execute_input": "2022-10-17T04:05:06.667787Z",
     "iopub.status.busy": "2022-10-17T04:05:06.667518Z",
     "iopub.status.idle": "2022-10-17T04:05:06.673260Z",
     "shell.execute_reply": "2022-10-17T04:05:06.671892Z"
    },
    "papermill": {
     "duration": 0.015029,
     "end_time": "2022-10-17T04:05:06.675226",
     "exception": false,
     "start_time": "2022-10-17T04:05:06.660197",
     "status": "completed"
    },
    "tags": []
   },
   "outputs": [
    {
     "name": "stdout",
     "output_type": "stream",
     "text": [
      "(40000, 3072) (40000,) (10000, 3072) (10000,) (10000, 3072)\n"
     ]
    }
   ],
   "source": [
    "print(x_train.shape, y_train.shape, x_valid.shape, y_valid.shape, x_test.shape)"
   ]
  },
  {
   "cell_type": "code",
   "execution_count": 11,
   "id": "22b7c828",
   "metadata": {
    "execution": {
     "iopub.execute_input": "2022-10-17T04:05:06.690770Z",
     "iopub.status.busy": "2022-10-17T04:05:06.689704Z",
     "iopub.status.idle": "2022-10-17T04:05:07.139505Z",
     "shell.execute_reply": "2022-10-17T04:05:07.138524Z"
    },
    "papermill": {
     "duration": 0.460101,
     "end_time": "2022-10-17T04:05:07.141976",
     "exception": false,
     "start_time": "2022-10-17T04:05:06.681875",
     "status": "completed"
    },
    "tags": []
   },
   "outputs": [],
   "source": [
    "x_train=np.array(x_train).reshape(40000,32,32,-1)\n",
    "x_valid=np.array(x_valid).reshape(10000,32,32,-1)\n",
    "x_test=np.array(x_test).reshape(10000,32,32,-1)"
   ]
  },
  {
   "cell_type": "code",
   "execution_count": 12,
   "id": "145991a2",
   "metadata": {
    "execution": {
     "iopub.execute_input": "2022-10-17T04:05:07.157285Z",
     "iopub.status.busy": "2022-10-17T04:05:07.156643Z",
     "iopub.status.idle": "2022-10-17T04:05:07.162617Z",
     "shell.execute_reply": "2022-10-17T04:05:07.161296Z"
    },
    "papermill": {
     "duration": 0.015607,
     "end_time": "2022-10-17T04:05:07.164575",
     "exception": false,
     "start_time": "2022-10-17T04:05:07.148968",
     "status": "completed"
    },
    "tags": []
   },
   "outputs": [
    {
     "name": "stdout",
     "output_type": "stream",
     "text": [
      "(40000, 32, 32, 3) (10000, 32, 32, 3) (10000, 32, 32, 3)\n"
     ]
    }
   ],
   "source": [
    "print(x_train.shape, x_valid.shape, x_test.shape)"
   ]
  },
  {
   "cell_type": "code",
   "execution_count": 13,
   "id": "b809744b",
   "metadata": {
    "execution": {
     "iopub.execute_input": "2022-10-17T04:05:07.179301Z",
     "iopub.status.busy": "2022-10-17T04:05:07.178993Z",
     "iopub.status.idle": "2022-10-17T04:05:07.531703Z",
     "shell.execute_reply": "2022-10-17T04:05:07.530756Z"
    },
    "papermill": {
     "duration": 0.362613,
     "end_time": "2022-10-17T04:05:07.533924",
     "exception": false,
     "start_time": "2022-10-17T04:05:07.171311",
     "status": "completed"
    },
    "tags": []
   },
   "outputs": [
    {
     "data": {
      "text/plain": [
       "(40000, 32, 32, 3)"
      ]
     },
     "execution_count": 13,
     "metadata": {},
     "output_type": "execute_result"
    }
   ],
   "source": [
    "np.array(x_train).reshape(40000,32,32, 3).shape"
   ]
  },
  {
   "cell_type": "markdown",
   "id": "2f27174e",
   "metadata": {
    "papermill": {
     "duration": 0.006709,
     "end_time": "2022-10-17T04:05:07.547721",
     "exception": false,
     "start_time": "2022-10-17T04:05:07.541012",
     "status": "completed"
    },
    "tags": []
   },
   "source": []
  },
  {
   "cell_type": "code",
   "execution_count": 14,
   "id": "415fadea",
   "metadata": {
    "execution": {
     "iopub.execute_input": "2022-10-17T04:05:07.563317Z",
     "iopub.status.busy": "2022-10-17T04:05:07.562301Z",
     "iopub.status.idle": "2022-10-17T04:05:09.108220Z",
     "shell.execute_reply": "2022-10-17T04:05:09.107068Z"
    },
    "papermill": {
     "duration": 1.556455,
     "end_time": "2022-10-17T04:05:09.110886",
     "exception": false,
     "start_time": "2022-10-17T04:05:07.554431",
     "status": "completed"
    },
    "tags": []
   },
   "outputs": [],
   "source": [
    "# 데이터 정규화\n",
    "mean = np.mean(x_train, axis=(0,1,2,3))\n",
    "std = np.std(x_train, axis=(0,1,2,3))\n",
    "x_train = (x_train-mean)/(std+1e-7)\n",
    "x_valid = (x_valid-mean)/(std+1e-7)\n",
    "x_test = (x_test-mean)/(std+1e-7)"
   ]
  },
  {
   "cell_type": "code",
   "execution_count": 15,
   "id": "09e2c52a",
   "metadata": {
    "execution": {
     "iopub.execute_input": "2022-10-17T04:05:09.132725Z",
     "iopub.status.busy": "2022-10-17T04:05:09.132346Z",
     "iopub.status.idle": "2022-10-17T04:05:09.140969Z",
     "shell.execute_reply": "2022-10-17T04:05:09.138793Z"
    },
    "papermill": {
     "duration": 0.022041,
     "end_time": "2022-10-17T04:05:09.143433",
     "exception": false,
     "start_time": "2022-10-17T04:05:09.121392",
     "status": "completed"
    },
    "tags": []
   },
   "outputs": [],
   "source": [
    "# 레이블에 원-핫 인코딩 적용하기\n",
    "num_classes = 10\n",
    "y_train = np_utils.to_categorical(y_train, num_classes)\n",
    "y_valid = np_utils.to_categorical(y_valid, num_classes)"
   ]
  },
  {
   "cell_type": "code",
   "execution_count": 16,
   "id": "24cd571f",
   "metadata": {
    "execution": {
     "iopub.execute_input": "2022-10-17T04:05:09.164490Z",
     "iopub.status.busy": "2022-10-17T04:05:09.164084Z",
     "iopub.status.idle": "2022-10-17T04:05:09.170224Z",
     "shell.execute_reply": "2022-10-17T04:05:09.169415Z"
    },
    "papermill": {
     "duration": 0.021668,
     "end_time": "2022-10-17T04:05:09.175208",
     "exception": false,
     "start_time": "2022-10-17T04:05:09.153540",
     "status": "completed"
    },
    "tags": []
   },
   "outputs": [
    {
     "data": {
      "text/plain": [
       "(40000, 10)"
      ]
     },
     "execution_count": 16,
     "metadata": {},
     "output_type": "execute_result"
    }
   ],
   "source": [
    "y_train.shape"
   ]
  },
  {
   "cell_type": "code",
   "execution_count": 17,
   "id": "8ca85c88",
   "metadata": {
    "execution": {
     "iopub.execute_input": "2022-10-17T04:05:09.197343Z",
     "iopub.status.busy": "2022-10-17T04:05:09.196830Z",
     "iopub.status.idle": "2022-10-17T04:05:13.033223Z",
     "shell.execute_reply": "2022-10-17T04:05:13.032227Z"
    },
    "papermill": {
     "duration": 3.850091,
     "end_time": "2022-10-17T04:05:13.035584",
     "exception": false,
     "start_time": "2022-10-17T04:05:09.185493",
     "status": "completed"
    },
    "tags": []
   },
   "outputs": [
    {
     "name": "stderr",
     "output_type": "stream",
     "text": [
      "2022-10-17 04:05:09.271007: I tensorflow/stream_executor/cuda/cuda_gpu_executor.cc:937] successful NUMA node read from SysFS had negative value (-1), but there must be at least one NUMA node, so returning NUMA node zero\n",
      "2022-10-17 04:05:09.370842: I tensorflow/stream_executor/cuda/cuda_gpu_executor.cc:937] successful NUMA node read from SysFS had negative value (-1), but there must be at least one NUMA node, so returning NUMA node zero\n",
      "2022-10-17 04:05:09.371685: I tensorflow/stream_executor/cuda/cuda_gpu_executor.cc:937] successful NUMA node read from SysFS had negative value (-1), but there must be at least one NUMA node, so returning NUMA node zero\n",
      "2022-10-17 04:05:09.374980: I tensorflow/core/platform/cpu_feature_guard.cc:142] This TensorFlow binary is optimized with oneAPI Deep Neural Network Library (oneDNN) to use the following CPU instructions in performance-critical operations:  AVX2 AVX512F FMA\n",
      "To enable them in other operations, rebuild TensorFlow with the appropriate compiler flags.\n",
      "2022-10-17 04:05:09.375310: I tensorflow/stream_executor/cuda/cuda_gpu_executor.cc:937] successful NUMA node read from SysFS had negative value (-1), but there must be at least one NUMA node, so returning NUMA node zero\n",
      "2022-10-17 04:05:09.376252: I tensorflow/stream_executor/cuda/cuda_gpu_executor.cc:937] successful NUMA node read from SysFS had negative value (-1), but there must be at least one NUMA node, so returning NUMA node zero\n",
      "2022-10-17 04:05:09.377121: I tensorflow/stream_executor/cuda/cuda_gpu_executor.cc:937] successful NUMA node read from SysFS had negative value (-1), but there must be at least one NUMA node, so returning NUMA node zero\n",
      "2022-10-17 04:05:11.372382: I tensorflow/stream_executor/cuda/cuda_gpu_executor.cc:937] successful NUMA node read from SysFS had negative value (-1), but there must be at least one NUMA node, so returning NUMA node zero\n",
      "2022-10-17 04:05:11.373277: I tensorflow/stream_executor/cuda/cuda_gpu_executor.cc:937] successful NUMA node read from SysFS had negative value (-1), but there must be at least one NUMA node, so returning NUMA node zero\n",
      "2022-10-17 04:05:11.373944: I tensorflow/stream_executor/cuda/cuda_gpu_executor.cc:937] successful NUMA node read from SysFS had negative value (-1), but there must be at least one NUMA node, so returning NUMA node zero\n",
      "2022-10-17 04:05:11.374563: I tensorflow/core/common_runtime/gpu/gpu_device.cc:1510] Created device /job:localhost/replica:0/task:0/device:GPU:0 with 15401 MB memory:  -> device: 0, name: Tesla P100-PCIE-16GB, pci bus id: 0000:00:04.0, compute capability: 6.0\n"
     ]
    }
   ],
   "source": [
    "# GPU를 활용한 모델 학습을 위해 넘파이 데이터를 텐서 데이터로 변환\n",
    "\n",
    "import tensorflow as tf\n",
    "x_train = tf.convert_to_tensor(x_train, dtype=tf.float32)\n",
    "x_test = tf.convert_to_tensor(x_test, dtype=tf.float32)"
   ]
  },
  {
   "cell_type": "code",
   "execution_count": 18,
   "id": "be3a9f4c",
   "metadata": {
    "execution": {
     "iopub.execute_input": "2022-10-17T04:05:13.051633Z",
     "iopub.status.busy": "2022-10-17T04:05:13.051321Z",
     "iopub.status.idle": "2022-10-17T04:05:13.619749Z",
     "shell.execute_reply": "2022-10-17T04:05:13.618783Z"
    },
    "papermill": {
     "duration": 0.579119,
     "end_time": "2022-10-17T04:05:13.622307",
     "exception": false,
     "start_time": "2022-10-17T04:05:13.043188",
     "status": "completed"
    },
    "tags": []
   },
   "outputs": [],
   "source": [
    "# 데이터 강화하기\n",
    "datagen = ImageDataGenerator(\n",
    "    rotation_range=5, \n",
    "    width_shift_range=0.1,\n",
    "    height_shift_range=0.1,\n",
    "    horizontal_flip=True,\n",
    "    vertical_flip=False\n",
    ")\n",
    "datagen.fit(x_train)"
   ]
  },
  {
   "cell_type": "code",
   "execution_count": 19,
   "id": "8f991d91",
   "metadata": {
    "execution": {
     "iopub.execute_input": "2022-10-17T04:05:13.638933Z",
     "iopub.status.busy": "2022-10-17T04:05:13.637891Z",
     "iopub.status.idle": "2022-10-17T04:05:14.002163Z",
     "shell.execute_reply": "2022-10-17T04:05:14.001169Z"
    },
    "papermill": {
     "duration": 0.374841,
     "end_time": "2022-10-17T04:05:14.004404",
     "exception": false,
     "start_time": "2022-10-17T04:05:13.629563",
     "status": "completed"
    },
    "tags": []
   },
   "outputs": [
    {
     "name": "stdout",
     "output_type": "stream",
     "text": [
      "Model: \"sequential\"\n",
      "_________________________________________________________________\n",
      "Layer (type)                 Output Shape              Param #   \n",
      "=================================================================\n",
      "conv2d (Conv2D)              (None, 32, 32, 32)        896       \n",
      "_________________________________________________________________\n",
      "activation (Activation)      (None, 32, 32, 32)        0         \n",
      "_________________________________________________________________\n",
      "batch_normalization (BatchNo (None, 32, 32, 32)        128       \n",
      "_________________________________________________________________\n",
      "conv2d_1 (Conv2D)            (None, 32, 32, 32)        9248      \n",
      "_________________________________________________________________\n",
      "activation_1 (Activation)    (None, 32, 32, 32)        0         \n",
      "_________________________________________________________________\n",
      "batch_normalization_1 (Batch (None, 32, 32, 32)        128       \n",
      "_________________________________________________________________\n",
      "max_pooling2d (MaxPooling2D) (None, 16, 16, 32)        0         \n",
      "_________________________________________________________________\n",
      "dropout (Dropout)            (None, 16, 16, 32)        0         \n",
      "_________________________________________________________________\n",
      "conv2d_2 (Conv2D)            (None, 16, 16, 64)        18496     \n",
      "_________________________________________________________________\n",
      "activation_2 (Activation)    (None, 16, 16, 64)        0         \n",
      "_________________________________________________________________\n",
      "batch_normalization_2 (Batch (None, 16, 16, 64)        256       \n",
      "_________________________________________________________________\n",
      "conv2d_3 (Conv2D)            (None, 16, 16, 64)        36928     \n",
      "_________________________________________________________________\n",
      "activation_3 (Activation)    (None, 16, 16, 64)        0         \n",
      "_________________________________________________________________\n",
      "batch_normalization_3 (Batch (None, 16, 16, 64)        256       \n",
      "_________________________________________________________________\n",
      "max_pooling2d_1 (MaxPooling2 (None, 8, 8, 64)          0         \n",
      "_________________________________________________________________\n",
      "dropout_1 (Dropout)          (None, 8, 8, 64)          0         \n",
      "_________________________________________________________________\n",
      "conv2d_4 (Conv2D)            (None, 8, 8, 128)         73856     \n",
      "_________________________________________________________________\n",
      "activation_4 (Activation)    (None, 8, 8, 128)         0         \n",
      "_________________________________________________________________\n",
      "batch_normalization_4 (Batch (None, 8, 8, 128)         512       \n",
      "_________________________________________________________________\n",
      "conv2d_5 (Conv2D)            (None, 8, 8, 128)         147584    \n",
      "_________________________________________________________________\n",
      "activation_5 (Activation)    (None, 8, 8, 128)         0         \n",
      "_________________________________________________________________\n",
      "batch_normalization_5 (Batch (None, 8, 8, 128)         512       \n",
      "_________________________________________________________________\n",
      "max_pooling2d_2 (MaxPooling2 (None, 4, 4, 128)         0         \n",
      "_________________________________________________________________\n",
      "dropout_2 (Dropout)          (None, 4, 4, 128)         0         \n",
      "_________________________________________________________________\n",
      "flatten (Flatten)            (None, 2048)              0         \n",
      "_________________________________________________________________\n",
      "dense (Dense)                (None, 10)                20490     \n",
      "=================================================================\n",
      "Total params: 309,290\n",
      "Trainable params: 308,394\n",
      "Non-trainable params: 896\n",
      "_________________________________________________________________\n"
     ]
    }
   ],
   "source": [
    "base_hidden_units = 32\n",
    "weight_decay = 1e-4\n",
    "model = Sequential()\n",
    "\n",
    "#Conv1\n",
    "model.add(Conv2D(base_hidden_units, kernel_size=3, padding='same', kernel_regularizer=regularizers.l2(weight_decay), input_shape=x_train.shape[1:]))\n",
    "model.add(Activation('relu'))\n",
    "model.add(BatchNormalization())\n",
    "\n",
    "#Conv2\n",
    "model.add(Conv2D(base_hidden_units, kernel_size=3, padding='same', kernel_regularizer=regularizers.l2(weight_decay)))\n",
    "model.add(Activation('relu'))\n",
    "model.add(BatchNormalization())\n",
    "\n",
    "#POOL+Dropout\n",
    "model.add(MaxPooling2D(pool_size=(2,2)))\n",
    "model.add(Dropout(0.2))\n",
    "\n",
    "# Conv3\n",
    "model.add(Conv2D(base_hidden_units*2, kernel_size=3, padding='same', kernel_regularizer=regularizers.l2(weight_decay)))\n",
    "model.add(Activation('relu'))\n",
    "model.add(BatchNormalization())\n",
    "\n",
    "# Conv4\n",
    "model.add(Conv2D(base_hidden_units*2, kernel_size=3, padding='same', kernel_regularizer=regularizers.l2(weight_decay)))\n",
    "model.add(Activation('relu'))\n",
    "model.add(BatchNormalization())\n",
    "\n",
    "#POOL+Dropout\n",
    "model.add(MaxPooling2D(pool_size=(2,2)))\n",
    "model.add(Dropout(0.3))\n",
    "\n",
    "# Conv5\n",
    "model.add(Conv2D(base_hidden_units*4, kernel_size=3, padding='same', kernel_regularizer=regularizers.l2(weight_decay)))\n",
    "model.add(Activation('relu'))\n",
    "model.add(BatchNormalization())\n",
    "\n",
    "# Conv6\n",
    "model.add(Conv2D(base_hidden_units*4, kernel_size=3, padding='same', kernel_regularizer=regularizers.l2(weight_decay)))\n",
    "model.add(Activation('relu'))\n",
    "model.add(BatchNormalization())\n",
    "\n",
    "#POOL+Dropout\n",
    "model.add(MaxPooling2D(pool_size=(2,2)))\n",
    "model.add(Dropout(0.4))\n",
    "\n",
    "\n",
    "# FC7\n",
    "model.add(Flatten())\n",
    "model.add(Dense(10,activation='softmax'))\n",
    "\n",
    "model.summary()"
   ]
  },
  {
   "cell_type": "code",
   "execution_count": 20,
   "id": "5f368ecf",
   "metadata": {
    "execution": {
     "iopub.execute_input": "2022-10-17T04:05:14.021894Z",
     "iopub.status.busy": "2022-10-17T04:05:14.020409Z",
     "iopub.status.idle": "2022-10-17T04:05:14.028443Z",
     "shell.execute_reply": "2022-10-17T04:05:14.027601Z"
    },
    "papermill": {
     "duration": 0.018509,
     "end_time": "2022-10-17T04:05:14.030347",
     "exception": false,
     "start_time": "2022-10-17T04:05:14.011838",
     "status": "completed"
    },
    "tags": []
   },
   "outputs": [
    {
     "data": {
      "text/plain": [
       "(40000, 10)"
      ]
     },
     "execution_count": 20,
     "metadata": {},
     "output_type": "execute_result"
    }
   ],
   "source": [
    "y_train.shape\n"
   ]
  },
  {
   "cell_type": "code",
   "execution_count": 21,
   "id": "63faa41c",
   "metadata": {
    "execution": {
     "iopub.execute_input": "2022-10-17T04:05:14.045871Z",
     "iopub.status.busy": "2022-10-17T04:05:14.045609Z",
     "iopub.status.idle": "2022-10-17T04:15:09.387794Z",
     "shell.execute_reply": "2022-10-17T04:15:09.386756Z"
    },
    "papermill": {
     "duration": 595.352761,
     "end_time": "2022-10-17T04:15:09.390283",
     "exception": false,
     "start_time": "2022-10-17T04:05:14.037522",
     "status": "completed"
    },
    "tags": []
   },
   "outputs": [
    {
     "name": "stderr",
     "output_type": "stream",
     "text": [
      "/opt/conda/lib/python3.7/site-packages/keras/optimizer_v2/optimizer_v2.py:356: UserWarning: The `lr` argument is deprecated, use `learning_rate` instead.\n",
      "  \"The `lr` argument is deprecated, use `learning_rate` instead.\")\n",
      "/opt/conda/lib/python3.7/site-packages/keras/engine/training.py:1972: UserWarning: `Model.fit_generator` is deprecated and will be removed in a future version. Please use `Model.fit`, which supports generators.\n",
      "  warnings.warn('`Model.fit_generator` is deprecated and '\n",
      "2022-10-17 04:05:14.444460: I tensorflow/compiler/mlir/mlir_graph_optimization_pass.cc:185] None of the MLIR Optimization Passes are enabled (registered 2)\n"
     ]
    },
    {
     "name": "stdout",
     "output_type": "stream",
     "text": [
      "Epoch 1/30\n"
     ]
    },
    {
     "name": "stderr",
     "output_type": "stream",
     "text": [
      "2022-10-17 04:05:16.843099: I tensorflow/stream_executor/cuda/cuda_dnn.cc:369] Loaded cuDNN version 8005\n"
     ]
    },
    {
     "name": "stdout",
     "output_type": "stream",
     "text": [
      "312/312 - 26s - loss: 2.8973 - accuracy: 0.2693 - val_loss: 2.1588 - val_accuracy: 0.2621\n",
      "\n",
      "Epoch 00001: val_loss improved from inf to 2.15876, saving model to model.100epochs.hdf5\n",
      "Epoch 2/30\n",
      "312/312 - 17s - loss: 2.1848 - accuracy: 0.3557 - val_loss: 1.5230 - val_accuracy: 0.4825\n",
      "\n",
      "Epoch 00002: val_loss improved from 2.15876 to 1.52304, saving model to model.100epochs.hdf5\n",
      "Epoch 3/30\n",
      "312/312 - 18s - loss: 1.9102 - accuracy: 0.3967 - val_loss: 1.4479 - val_accuracy: 0.5031\n",
      "\n",
      "Epoch 00003: val_loss improved from 1.52304 to 1.44792, saving model to model.100epochs.hdf5\n",
      "Epoch 4/30\n",
      "312/312 - 17s - loss: 1.7640 - accuracy: 0.4322 - val_loss: 1.4033 - val_accuracy: 0.5205\n",
      "\n",
      "Epoch 00004: val_loss improved from 1.44792 to 1.40330, saving model to model.100epochs.hdf5\n",
      "Epoch 5/30\n",
      "312/312 - 17s - loss: 1.6800 - accuracy: 0.4582 - val_loss: 1.3757 - val_accuracy: 0.5339\n",
      "\n",
      "Epoch 00005: val_loss improved from 1.40330 to 1.37571, saving model to model.100epochs.hdf5\n",
      "Epoch 6/30\n",
      "312/312 - 17s - loss: 1.5850 - accuracy: 0.4818 - val_loss: 1.3682 - val_accuracy: 0.5320\n",
      "\n",
      "Epoch 00006: val_loss improved from 1.37571 to 1.36818, saving model to model.100epochs.hdf5\n",
      "Epoch 7/30\n",
      "312/312 - 17s - loss: 1.5111 - accuracy: 0.5028 - val_loss: 1.3383 - val_accuracy: 0.5421\n",
      "\n",
      "Epoch 00007: val_loss improved from 1.36818 to 1.33834, saving model to model.100epochs.hdf5\n",
      "Epoch 8/30\n",
      "312/312 - 18s - loss: 1.4612 - accuracy: 0.5210 - val_loss: 1.3061 - val_accuracy: 0.5529\n",
      "\n",
      "Epoch 00008: val_loss improved from 1.33834 to 1.30614, saving model to model.100epochs.hdf5\n",
      "Epoch 9/30\n",
      "312/312 - 18s - loss: 1.3999 - accuracy: 0.5400 - val_loss: 1.1710 - val_accuracy: 0.5959\n",
      "\n",
      "Epoch 00009: val_loss improved from 1.30614 to 1.17097, saving model to model.100epochs.hdf5\n",
      "Epoch 10/30\n",
      "312/312 - 17s - loss: 1.3398 - accuracy: 0.5574 - val_loss: 1.2132 - val_accuracy: 0.5877\n",
      "\n",
      "Epoch 00010: val_loss did not improve from 1.17097\n",
      "Epoch 11/30\n",
      "312/312 - 17s - loss: 1.2877 - accuracy: 0.5732 - val_loss: 1.1177 - val_accuracy: 0.6229\n",
      "\n",
      "Epoch 00011: val_loss improved from 1.17097 to 1.11772, saving model to model.100epochs.hdf5\n",
      "Epoch 12/30\n",
      "312/312 - 18s - loss: 1.2452 - accuracy: 0.5891 - val_loss: 1.1971 - val_accuracy: 0.5974\n",
      "\n",
      "Epoch 00012: val_loss did not improve from 1.11772\n",
      "Epoch 13/30\n",
      "312/312 - 17s - loss: 1.2068 - accuracy: 0.5995 - val_loss: 1.1027 - val_accuracy: 0.6271\n",
      "\n",
      "Epoch 00013: val_loss improved from 1.11772 to 1.10275, saving model to model.100epochs.hdf5\n",
      "Epoch 14/30\n",
      "312/312 - 18s - loss: 1.1621 - accuracy: 0.6127 - val_loss: 1.1311 - val_accuracy: 0.6216\n",
      "\n",
      "Epoch 00014: val_loss did not improve from 1.10275\n",
      "Epoch 15/30\n",
      "312/312 - 17s - loss: 1.1312 - accuracy: 0.6251 - val_loss: 1.1124 - val_accuracy: 0.6292\n",
      "\n",
      "Epoch 00015: val_loss did not improve from 1.10275\n",
      "Epoch 16/30\n",
      "312/312 - 18s - loss: 1.0958 - accuracy: 0.6330 - val_loss: 1.0592 - val_accuracy: 0.6496\n",
      "\n",
      "Epoch 00016: val_loss improved from 1.10275 to 1.05921, saving model to model.100epochs.hdf5\n",
      "Epoch 17/30\n",
      "312/312 - 17s - loss: 1.0603 - accuracy: 0.6489 - val_loss: 1.0327 - val_accuracy: 0.6579\n",
      "\n",
      "Epoch 00017: val_loss improved from 1.05921 to 1.03272, saving model to model.100epochs.hdf5\n",
      "Epoch 18/30\n",
      "312/312 - 18s - loss: 1.0389 - accuracy: 0.6553 - val_loss: 1.0026 - val_accuracy: 0.6644\n",
      "\n",
      "Epoch 00018: val_loss improved from 1.03272 to 1.00264, saving model to model.100epochs.hdf5\n",
      "Epoch 19/30\n",
      "312/312 - 18s - loss: 1.0074 - accuracy: 0.6634 - val_loss: 0.9794 - val_accuracy: 0.6767\n",
      "\n",
      "Epoch 00019: val_loss improved from 1.00264 to 0.97942, saving model to model.100epochs.hdf5\n",
      "Epoch 20/30\n",
      "312/312 - 17s - loss: 0.9924 - accuracy: 0.6692 - val_loss: 0.9647 - val_accuracy: 0.6776\n",
      "\n",
      "Epoch 00020: val_loss improved from 0.97942 to 0.96468, saving model to model.100epochs.hdf5\n",
      "Epoch 21/30\n",
      "312/312 - 18s - loss: 0.9716 - accuracy: 0.6772 - val_loss: 0.9381 - val_accuracy: 0.6878\n",
      "\n",
      "Epoch 00021: val_loss improved from 0.96468 to 0.93805, saving model to model.100epochs.hdf5\n",
      "Epoch 22/30\n",
      "312/312 - 18s - loss: 0.9454 - accuracy: 0.6844 - val_loss: 0.9810 - val_accuracy: 0.6765\n",
      "\n",
      "Epoch 00022: val_loss did not improve from 0.93805\n",
      "Epoch 23/30\n",
      "312/312 - 17s - loss: 0.9259 - accuracy: 0.6904 - val_loss: 0.9454 - val_accuracy: 0.6911\n",
      "\n",
      "Epoch 00023: val_loss did not improve from 0.93805\n",
      "Epoch 24/30\n",
      "312/312 - 18s - loss: 0.9108 - accuracy: 0.6945 - val_loss: 0.9271 - val_accuracy: 0.6937\n",
      "\n",
      "Epoch 00024: val_loss improved from 0.93805 to 0.92711, saving model to model.100epochs.hdf5\n",
      "Epoch 25/30\n",
      "312/312 - 18s - loss: 0.8930 - accuracy: 0.7027 - val_loss: 0.8887 - val_accuracy: 0.7068\n",
      "\n",
      "Epoch 00025: val_loss improved from 0.92711 to 0.88867, saving model to model.100epochs.hdf5\n",
      "Epoch 26/30\n",
      "312/312 - 18s - loss: 0.8821 - accuracy: 0.7059 - val_loss: 0.8616 - val_accuracy: 0.7154\n",
      "\n",
      "Epoch 00026: val_loss improved from 0.88867 to 0.86160, saving model to model.100epochs.hdf5\n",
      "Epoch 27/30\n",
      "312/312 - 18s - loss: 0.8621 - accuracy: 0.7125 - val_loss: 0.8525 - val_accuracy: 0.7212\n",
      "\n",
      "Epoch 00027: val_loss improved from 0.86160 to 0.85254, saving model to model.100epochs.hdf5\n",
      "Epoch 28/30\n",
      "312/312 - 17s - loss: 0.8472 - accuracy: 0.7171 - val_loss: 0.8460 - val_accuracy: 0.7225\n",
      "\n",
      "Epoch 00028: val_loss improved from 0.85254 to 0.84603, saving model to model.100epochs.hdf5\n",
      "Epoch 29/30\n",
      "312/312 - 18s - loss: 0.8303 - accuracy: 0.7234 - val_loss: 0.8413 - val_accuracy: 0.7217\n",
      "\n",
      "Epoch 00029: val_loss improved from 0.84603 to 0.84129, saving model to model.100epochs.hdf5\n",
      "Epoch 30/30\n",
      "312/312 - 17s - loss: 0.8261 - accuracy: 0.7235 - val_loss: 0.8117 - val_accuracy: 0.7337\n",
      "\n",
      "Epoch 00030: val_loss improved from 0.84129 to 0.81168, saving model to model.100epochs.hdf5\n"
     ]
    }
   ],
   "source": [
    "import tensorflow\n",
    "\n",
    "batch_size = 128\n",
    "epochs = 30\n",
    "\n",
    "tf.device(\"/device:GPU:0\")\n",
    "checkpointer = ModelCheckpoint(filepath='model.100epochs.hdf5', verbose=1, save_best_only=True)\n",
    "optimizer = tensorflow.keras.optimizers.Adam(lr=0.0001, decay=1e-6) # 교재랑 다른부분!! \n",
    "model.compile(loss='categorical_crossentropy', optimizer=optimizer, metrics=['accuracy'])\n",
    "\n",
    "history = model.fit_generator(datagen.flow(x_train, y_train, batch_size=batch_size), callbacks=[checkpointer], steps_per_epoch=x_train.shape[0] // batch_size, epochs=epochs, verbose=2,validation_data=(x_valid, y_valid))"
   ]
  },
  {
   "cell_type": "code",
   "execution_count": 22,
   "id": "983ca408",
   "metadata": {
    "execution": {
     "iopub.execute_input": "2022-10-17T04:15:09.414313Z",
     "iopub.status.busy": "2022-10-17T04:15:09.413961Z",
     "iopub.status.idle": "2022-10-17T04:15:09.418829Z",
     "shell.execute_reply": "2022-10-17T04:15:09.417962Z"
    },
    "papermill": {
     "duration": 0.019084,
     "end_time": "2022-10-17T04:15:09.420784",
     "exception": false,
     "start_time": "2022-10-17T04:15:09.401700",
     "status": "completed"
    },
    "tags": []
   },
   "outputs": [],
   "source": [
    "# scores = model.evaluate(x_test, y_test, batch_size=128, verbose=1)\n",
    "# print('\\nTest result: %.3f loss:%.3f' % (scores[1]*100, scores[0]))"
   ]
  },
  {
   "cell_type": "code",
   "execution_count": 23,
   "id": "a635aa8e",
   "metadata": {
    "execution": {
     "iopub.execute_input": "2022-10-17T04:15:09.443769Z",
     "iopub.status.busy": "2022-10-17T04:15:09.443482Z",
     "iopub.status.idle": "2022-10-17T04:15:09.660002Z",
     "shell.execute_reply": "2022-10-17T04:15:09.658959Z"
    },
    "papermill": {
     "duration": 0.230385,
     "end_time": "2022-10-17T04:15:09.662104",
     "exception": false,
     "start_time": "2022-10-17T04:15:09.431719",
     "status": "completed"
    },
    "tags": []
   },
   "outputs": [
    {
     "name": "stderr",
     "output_type": "stream",
     "text": [
      "/opt/conda/lib/python3.7/site-packages/IPython/core/pylabtools.py:151: UserWarning: Glyph 54984 (\\N{HANGUL SYLLABLE HUN}) missing from current font.\n",
      "  fig.canvas.print_figure(bytes_io, **kw)\n",
      "/opt/conda/lib/python3.7/site-packages/IPython/core/pylabtools.py:151: UserWarning: Glyph 47144 (\\N{HANGUL SYLLABLE RYEON}) missing from current font.\n",
      "  fig.canvas.print_figure(bytes_io, **kw)\n",
      "/opt/conda/lib/python3.7/site-packages/IPython/core/pylabtools.py:151: UserWarning: Glyph 45936 (\\N{HANGUL SYLLABLE DE}) missing from current font.\n",
      "  fig.canvas.print_figure(bytes_io, **kw)\n",
      "/opt/conda/lib/python3.7/site-packages/IPython/core/pylabtools.py:151: UserWarning: Glyph 51060 (\\N{HANGUL SYLLABLE I}) missing from current font.\n",
      "  fig.canvas.print_figure(bytes_io, **kw)\n",
      "/opt/conda/lib/python3.7/site-packages/IPython/core/pylabtools.py:151: UserWarning: Glyph 53552 (\\N{HANGUL SYLLABLE TEO}) missing from current font.\n",
      "  fig.canvas.print_figure(bytes_io, **kw)\n",
      "/opt/conda/lib/python3.7/site-packages/IPython/core/pylabtools.py:151: UserWarning: Glyph 53580 (\\N{HANGUL SYLLABLE TE}) missing from current font.\n",
      "  fig.canvas.print_figure(bytes_io, **kw)\n",
      "/opt/conda/lib/python3.7/site-packages/IPython/core/pylabtools.py:151: UserWarning: Glyph 49828 (\\N{HANGUL SYLLABLE SEU}) missing from current font.\n",
      "  fig.canvas.print_figure(bytes_io, **kw)\n",
      "/opt/conda/lib/python3.7/site-packages/IPython/core/pylabtools.py:151: UserWarning: Glyph 53944 (\\N{HANGUL SYLLABLE TEU}) missing from current font.\n",
      "  fig.canvas.print_figure(bytes_io, **kw)\n"
     ]
    },
    {
     "data": {
      "image/png": "[encoded data removed]",
      "text/plain": [
       "<Figure size 432x288 with 1 Axes>"
      ]
     },
     "metadata": {
      "needs_background": "light"
     },
     "output_type": "display_data"
    }
   ],
   "source": [
    "# 학습 곡선 그리기\n",
    "pyplot.plot(history.history['accuracy'], label='훈련 데이터')\n",
    "pyplot.plot(history.history['val_accuracy'], label='테스트 데이터')\n",
    "pyplot.legend()\n",
    "pyplot.show()"
   ]
  },
  {
   "cell_type": "code",
   "execution_count": 24,
   "id": "1d729cda",
   "metadata": {
    "execution": {
     "iopub.execute_input": "2022-10-17T04:15:09.686317Z",
     "iopub.status.busy": "2022-10-17T04:15:09.686013Z",
     "iopub.status.idle": "2022-10-17T04:15:10.400892Z",
     "shell.execute_reply": "2022-10-17T04:15:10.399879Z"
    },
    "papermill": {
     "duration": 0.729745,
     "end_time": "2022-10-17T04:15:10.403382",
     "exception": false,
     "start_time": "2022-10-17T04:15:09.673637",
     "status": "completed"
    },
    "tags": []
   },
   "outputs": [],
   "source": [
    "prediction = model.predict( x_test,\n",
    "                            batch_size=None,\n",
    "                            verbose=\"auto\",\n",
    "                            steps=None,\n",
    "                            callbacks=None,\n",
    "                            max_queue_size=10,\n",
    "                            workers=1,\n",
    "                            use_multiprocessing=False,\n",
    "                        )"
   ]
  },
  {
   "cell_type": "code",
   "execution_count": 25,
   "id": "36a01e2f",
   "metadata": {
    "execution": {
     "iopub.execute_input": "2022-10-17T04:15:10.428933Z",
     "iopub.status.busy": "2022-10-17T04:15:10.427281Z",
     "iopub.status.idle": "2022-10-17T04:15:10.434775Z",
     "shell.execute_reply": "2022-10-17T04:15:10.433859Z"
    },
    "papermill": {
     "duration": 0.021831,
     "end_time": "2022-10-17T04:15:10.436782",
     "exception": false,
     "start_time": "2022-10-17T04:15:10.414951",
     "status": "completed"
    },
    "tags": []
   },
   "outputs": [
    {
     "data": {
      "text/plain": [
       "(10000, 10)"
      ]
     },
     "execution_count": 25,
     "metadata": {},
     "output_type": "execute_result"
    }
   ],
   "source": [
    "prediction.shape"
   ]
  },
  {
   "cell_type": "code",
   "execution_count": 26,
   "id": "29160303",
   "metadata": {
    "execution": {
     "iopub.execute_input": "2022-10-17T04:15:10.460859Z",
     "iopub.status.busy": "2022-10-17T04:15:10.460568Z",
     "iopub.status.idle": "2022-10-17T04:15:10.467137Z",
     "shell.execute_reply": "2022-10-17T04:15:10.466294Z"
    },
    "papermill": {
     "duration": 0.020881,
     "end_time": "2022-10-17T04:15:10.469224",
     "exception": false,
     "start_time": "2022-10-17T04:15:10.448343",
     "status": "completed"
    },
    "tags": []
   },
   "outputs": [],
   "source": [
    "submit['label']=np.argmax(prediction,axis=1)"
   ]
  },
  {
   "cell_type": "code",
   "execution_count": 27,
   "id": "a9d955d9",
   "metadata": {
    "execution": {
     "iopub.execute_input": "2022-10-17T04:15:10.492983Z",
     "iopub.status.busy": "2022-10-17T04:15:10.492670Z",
     "iopub.status.idle": "2022-10-17T04:15:10.507638Z",
     "shell.execute_reply": "2022-10-17T04:15:10.506824Z"
    },
    "papermill": {
     "duration": 0.029193,
     "end_time": "2022-10-17T04:15:10.509572",
     "exception": false,
     "start_time": "2022-10-17T04:15:10.480379",
     "status": "completed"
    },
    "tags": []
   },
   "outputs": [],
   "source": [
    "## CSV파일로 저장\n",
    "submit.to_csv(\"submission.csv\",header=True,index=False)"
   ]
  },
  {
   "cell_type": "code",
   "execution_count": null,
   "id": "d8276b61",
   "metadata": {
    "papermill": {
     "duration": 0.011125,
     "end_time": "2022-10-17T04:15:10.532111",
     "exception": false,
     "start_time": "2022-10-17T04:15:10.520986",
     "status": "completed"
    },
    "tags": []
   },
   "outputs": [],
   "source": []
  }
 ],
 "metadata": {
  "kernelspec": {
   "display_name": "Python 3",
   "language": "python",
   "name": "python3"
  },
  "language_info": {
   "codemirror_mode": {
    "name": "ipython",
    "version": 3
   },
   "file_extension": ".py",
   "mimetype": "text/x-python",
   "name": "python",
   "nbconvert_exporter": "python",
   "pygments_lexer": "ipython3",
   "version": "3.7.12"
  },
  "papermill": {
   "default_parameters": {},
   "duration": 647.558229,
   "end_time": "2022-10-17T04:15:13.584118",
   "environment_variables": {},
   "exception": null,
   "input_path": "__notebook__.ipynb",
   "output_path": "__notebook__.ipynb",
   "parameters": {},
   "start_time": "2022-10-17T04:04:26.025889",
   "version": "2.3.4"
  }
 },
 "nbformat": 4,
 "nbformat_minor": 5
}
